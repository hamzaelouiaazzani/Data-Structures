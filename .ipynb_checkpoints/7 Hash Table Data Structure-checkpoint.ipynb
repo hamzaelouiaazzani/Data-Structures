{
 "cells": [
  {
   "cell_type": "markdown",
   "id": "980c2f00-21ef-4b45-9f49-e36149e380d4",
   "metadata": {},
   "source": [
    "# Hash Tables Overview:"
   ]
  },
  {
   "cell_type": "markdown",
   "id": "89671bb2-145d-4ed6-b9bc-243d9e6426ff",
   "metadata": {},
   "source": [
    "## Description of Hash Tables\r\n",
    "\r\n",
    "A **hash table** is a data structure that provides an efficient way to store and retrieve key-value pairs. It uses a **hash function** to compute an index into an array of buckets, from which the desired value can be found. Hash tables offer average-case time complexities of O(1) for insertion, deletion, and search operations under ideal conditions, making them extremely efficient.\r\n",
    "\r\n",
    "## Key Components:\r\n",
    "1. **Hash Function**: Converts a key into an index in the array.\r\n",
    "2. **Buckets**: Containers (often linked lists) used to handle collisions when multiple keys hash to the same index.\r\n",
    "3. **Collision Resolution**: This implementation uses **chaining** by storing multiple key-value pairs in a bucket represented as a linked list.\r\n",
    "\r\n",
    "## Advantages:\r\n",
    "- Constant time complexity for search, insert, and delete in the average case.\r\n",
    "- Efficient use of space when implemented with proper collision resolution (chaining through LinkedLists in the following implimentation) techniques.\r\n",
    "\r\n",
    "## Applications:\r\n",
    "- Implementation of dictionaries in programming languages.\r\n",
    "- Caching mechanisms for fast data retrieval.\r\n",
    "- Indexing in databases.\r\n",
    "- Associative arrays and maps.\r\n"
   ]
  },
  {
   "cell_type": "code",
   "execution_count": 90,
   "id": "509b0d81-a486-49f6-a4aa-c74eeb4637fe",
   "metadata": {},
   "outputs": [],
   "source": [
    "from data_structures.Singly_LinkedLists import LinkedList\n",
    "\n",
    "class LinkedList_hash(LinkedList):\n",
    "    \"\"\"\n",
    "    A class that extends the LinkedList class to specifically handle buckets in a hash table.\n",
    "\n",
    "    Methods:\n",
    "        search_key_in_bucket(key): Searches for a key in the bucket (linked list).\n",
    "        delete_key(key): Deletes a node containing the specified key.\n",
    "        get_bucket_keys(): Retrieves all keys stored in the bucket.\n",
    "        get_bucket_values(): Retrieves all values stored in the bucket.\n",
    "    \"\"\"\n",
    "\n",
    "    def __init__(self, *args, **kwargs):\n",
    "        \"\"\"\n",
    "        Initialize the LinkedList_hash object, inheriting attributes and methods from LinkedList.\n",
    "        \"\"\"\n",
    "        super().__init__(*args, **kwargs)  # Inherit attributes and methods from LinkedList\n",
    "\n",
    "    \n",
    "    def search_key_in_bucket(self, key):\n",
    "        \"\"\"\n",
    "        Search if a key is already existing in the bucket (linked list).\n",
    "\n",
    "        Args:\n",
    "            key (any): The key to search for.\n",
    "\n",
    "        Returns:\n",
    "            Node: The node containing the key, or None if the key is not found.\n",
    "        \"\"\"\n",
    "        if self.size:\n",
    "            current_node = self.head\n",
    "            while current_node.pointer_to_next_node is not None and current_node.data[0] != key:\n",
    "                current_node = current_node.pointer_to_next_node\n",
    "            if current_node.data[0] == key:\n",
    "                return current_node\n",
    "        return None  # Explicitly return None if key is not found\n",
    "\n",
    "    def delete_key(self, key):\n",
    "        \"\"\"\n",
    "        Deletes the node containing the specified key in the linked list.\n",
    "\n",
    "        Args:\n",
    "            key (any): The key to delete.\n",
    "\n",
    "        Raises:\n",
    "            KeyError: If the key is not found in the linked list.\n",
    "        \n",
    "        Returns:\n",
    "            bool: True if deletion is successful.\n",
    "        \"\"\"\n",
    "        if self.size == 0:\n",
    "            raise KeyError(\"Key not found: LinkedList is empty.\")\n",
    "\n",
    "        if self.head.data[0] == key:\n",
    "            self.delete_first_node()\n",
    "            return True  # Indicate successful deletion\n",
    "\n",
    "        current_node = self.head\n",
    "        while current_node.pointer_to_next_node is not None:\n",
    "            if current_node.pointer_to_next_node.data[0] == key:\n",
    "                target_node = current_node.pointer_to_next_node\n",
    "                current_node.pointer_to_next_node = target_node.pointer_to_next_node\n",
    "                del target_node\n",
    "                self.size -= 1\n",
    "                return True  # Indicate successful deletion\n",
    "\n",
    "        raise KeyError(f\"Key not found: {key}\")\n",
    "\n",
    "    def get_bucket_keys(self):\n",
    "        \"\"\"\n",
    "        Retrieve all keys stored in the bucket.\n",
    "\n",
    "        Returns:\n",
    "            list: A list of keys.\n",
    "        \"\"\"\n",
    "        keys = []\n",
    "        if self.size:\n",
    "            current_node = self.head\n",
    "            keys.append(current_node.data[0])\n",
    "            while current_node.pointer_to_next_node is not None:\n",
    "                current_node = current_node.pointer_to_next_node\n",
    "                keys.append(current_node.data[0])\n",
    "        return keys\n",
    "\n",
    "    def get_bucket_values(self):\n",
    "        \"\"\"\n",
    "        Retrieve all values stored in the bucket.\n",
    "\n",
    "        Returns:\n",
    "            list: A list of values.\n",
    "        \"\"\"\n",
    "        values = []\n",
    "        if self.size:\n",
    "            current_node = self.head\n",
    "            values.append(current_node.data[1])\n",
    "            while current_node.pointer_to_next_node is not None:\n",
    "                current_node = current_node.pointer_to_next_node\n",
    "                values.append(current_node.data[1])\n",
    "        return values\n",
    "\n",
    "\n",
    "class hash_table():\n",
    "    \"\"\"\n",
    "    A class to implement a hash table with separate chaining for collision handling.\n",
    "\n",
    "    Attributes:\n",
    "        size (int): The number of buckets in the hash table.\n",
    "        n_items (int): The number precomputed number of items (key-value pairs).\n",
    "        array_buckets (list): A list of buckets, each being a LinkedList_hash object.\n",
    "\n",
    "    Methods:\n",
    "        _hash(key): Computes the hash index for a given key.\n",
    "        insert(key, value): Inserts or updates a key-value pair in the hash table.\n",
    "        search(key): Searches for a key and returns its value.\n",
    "        delete(key): Deletes a key-value pair.\n",
    "        load_factor(): Computes the load factor of the hash table.\n",
    "        resize(size): Resizes the hash table when necessary.\n",
    "        __iter__(): Iterates over all key-value pairs in the hash table.\n",
    "        __len__(): Returns the number of key-value pairs in the hash table.\n",
    "        get_items(): Retrieves all key-value pairs as a list.\n",
    "        get_keys(): Retrieves all keys in the hash table.\n",
    "        get_values(): Retrieves all values in the hash table.\n",
    "        visualize_hash_table(): Provides a visual representation of the hash table.\n",
    "    \"\"\"\n",
    "\n",
    "    def __init__(self, size):\n",
    "        \"\"\"\n",
    "        Initialize the hash table with a specified number of buckets.\n",
    "\n",
    "        Args:\n",
    "            size (int): The number of buckets in the hash table.\n",
    "        \"\"\"\n",
    "        self.size = size\n",
    "        self.n_items = 0\n",
    "        self.array_buckets = [None for _ in range(size)]\n",
    "\n",
    "    def _hash(self, key):\n",
    "        \"\"\"\n",
    "        Compute the hash index for a given key.\n",
    "\n",
    "        Args:\n",
    "            key (any): The key to hash.\n",
    "\n",
    "        Returns:\n",
    "            int: The index of the bucket for the key.\n",
    "        \"\"\"\n",
    "        return hash(key) % self.size\n",
    "\n",
    "    def insert(self, key, value):\n",
    "        \"\"\"\n",
    "        Insert or update a key-value pair in the hash table.\n",
    "\n",
    "        Args:\n",
    "            key (any): The key to insert or update.\n",
    "            value (any): The value associated with the key.\n",
    "        \"\"\"\n",
    "        bucket_index = self._hash(key)\n",
    "        if self.array_buckets[bucket_index] is None:\n",
    "            self.array_buckets[bucket_index] = LinkedList_hash()\n",
    "            self.array_buckets[bucket_index].insert_at_beginning((key, value))\n",
    "            self.n_items = self.n_items + 1\n",
    "        else:\n",
    "            key_node = self.array_buckets[bucket_index].search_key_in_bucket(key)\n",
    "            if key_node is not None:\n",
    "                key_node.data = (key, value)  # Update existing key-value pair\n",
    "            else:\n",
    "                self.array_buckets[bucket_index].insert_at_beginning((key, value))\n",
    "                self.n_items = self.n_items + 1\n",
    "\n",
    "    def search(self, key):\n",
    "        \"\"\"\n",
    "        Search for a key and return its value.\n",
    "\n",
    "        Args:\n",
    "            key (any): The key to search for.\n",
    "\n",
    "        Returns:\n",
    "            any: The value associated with the key, or None if the key is not found.\n",
    "        \"\"\"\n",
    "        bucket_index = self._hash(key)\n",
    "        if self.array_buckets[bucket_index] is None:\n",
    "            print(\"This key doesn't have a corresponding bucket yet. Try an existing key!\")\n",
    "            return None\n",
    "        key_node = self.array_buckets[bucket_index].search_key_in_bucket(key)\n",
    "        if key_node is not None:\n",
    "            return key_node.data[1]\n",
    "        else:\n",
    "            print(\"This key is not found in the buckets. Try an existing key!\")\n",
    "            return None\n",
    "\n",
    "    def delete(self, key):\n",
    "        \"\"\"\n",
    "        Delete a key-value pair from the hash table.\n",
    "\n",
    "        Args:\n",
    "            key (any): The key to delete.\n",
    "\n",
    "        Raises:\n",
    "            KeyError: If the key is not found.\n",
    "        \"\"\"\n",
    "        bucket_index = self._hash(key)\n",
    "        if self.array_buckets[bucket_index] is None:\n",
    "            raise KeyError(\"Key not found in the hash table.\")\n",
    "        bucket = self.array_buckets[bucket_index]\n",
    "        bucket.delete_key(key)\n",
    "        self.n_items = self.n_items - 1\n",
    "        if bucket.size == 0:\n",
    "            self.array_buckets[bucket_index] = None\n",
    "\n",
    "    def load_factor(self):\n",
    "        \"\"\"\n",
    "        Compute the load factor of the hash table.\n",
    "\n",
    "        Returns:\n",
    "            float: The load factor of the hash table.\n",
    "        \"\"\"\n",
    "        return  len(ht) / self.size\n",
    "\n",
    "    \n",
    "    def resize(self, size=None):\n",
    "        \"\"\"\n",
    "        Resize the hash table when the load factor exceeds the threshold.\n",
    "\n",
    "        Args:\n",
    "            size (int, optional): The new size of the hash table. Defaults to doubling the current size.\n",
    "        \"\"\"\n",
    "        print(\"Resizing hash table...\")\n",
    "        old_array_buckets = self.array_buckets\n",
    "        self.size = 2 * self.size if size is None else size\n",
    "        self.array_buckets = [None for _ in range(self.size)]\n",
    "        self.n_items = 0\n",
    "        for bucket in old_array_buckets:\n",
    "            if bucket is not None:\n",
    "                current_node = bucket.head\n",
    "                while current_node is not None:\n",
    "                    key, value = current_node.data\n",
    "                    self.insert(key, value)\n",
    "                    current_node = current_node.pointer_to_next_node\n",
    "\n",
    "    def __iter__(self):\n",
    "        \"\"\"\n",
    "        Iterate over all key-value pairs in the hash table.\n",
    "\n",
    "        Yields:\n",
    "            tuple: Key-value pairs.\n",
    "        \"\"\"\n",
    "        for bucket in self.array_buckets:\n",
    "            if bucket is not None:\n",
    "                current_node = bucket.head\n",
    "                while current_node is not None:\n",
    "                    yield current_node.data\n",
    "                    current_node = current_node.pointer_to_next_node\n",
    "\n",
    "    def __len__(self):\n",
    "        \"\"\"\n",
    "        Return the number of key-value pairs in the hash table.\n",
    "\n",
    "        Returns:\n",
    "            int: The total number of key-value pairs.\n",
    "        \"\"\"\n",
    "        return self.n_items\n",
    "        \n",
    "\n",
    "    def get_items(self):\n",
    "        \"\"\"\n",
    "        Retrieve all key-value pairs as a list.\n",
    "\n",
    "        Returns:\n",
    "            list: A list of key-value pairs.\n",
    "        \"\"\"\n",
    "        items = []\n",
    "        for bucket in self.array_buckets:\n",
    "            if bucket is not None:\n",
    "                for item in bucket.to_python_list()[0]:\n",
    "                    items.append(item)\n",
    "        return items\n",
    "\n",
    "        \n",
    "    def get_keys(self):\n",
    "        \"\"\"\n",
    "        Retrieve all keys in the hash table.\n",
    "\n",
    "        Returns:\n",
    "            list: A list of keys.\n",
    "        \"\"\"\n",
    "        keys = []\n",
    "        for bucket in self.array_buckets:\n",
    "            if bucket is not None:\n",
    "                for key in bucket.get_bucket_keys():\n",
    "                    keys.append(key)\n",
    "        return keys\n",
    "\n",
    "    def get_values(self):\n",
    "        \"\"\"\n",
    "        Retrieve all values in the hash table.\n",
    "\n",
    "        Returns:\n",
    "            list: A list of values.\n",
    "        \"\"\"\n",
    "        values = []\n",
    "        for bucket in self.array_buckets:\n",
    "            if bucket is not None:\n",
    "                for value in bucket.get_bucket_values():\n",
    "                    values.append(value)\n",
    "        return values\n",
    "\n",
    "    def visualize_hash_table(self):\n",
    "        \"\"\"\n",
    "        Provide a visual representation of the hash table.\n",
    "\n",
    "        Returns:\n",
    "            dict: A dictionary where keys are bucket indices and values are the contents of each bucket.\n",
    "        \"\"\"\n",
    "        vis = {}\n",
    "        for i, bucket in enumerate(self.array_buckets):\n",
    "            if bucket is None:\n",
    "                vis[f\"bucket_{i}\"] = \"\"\n",
    "            else:\n",
    "                vis[f\"bucket_{i}\"] = bucket.to_python_list()[0]\n",
    "        return vis\n"
   ]
  },
  {
   "cell_type": "markdown",
   "id": "047c3efc-54dc-4ca8-b5ba-082711745910",
   "metadata": {},
   "source": [
    "## Big O Complexity of Operations in Hash Table\r\n",
    "\r\n",
    "Below is the time complexity analysis for each implemented operation in the **hash_table**, based solely on the provided implementation:\r\n",
    "\r\n",
    "---\r\n",
    "\r\n",
    "### Insertions:\r\n",
    "1. **Insert (key, value)**:\r\n",
    "   - **Time Complexity**: \r\n",
    "     - **Average Case**: **O(1)** (due to direct index access and appending to a bucket).\r\n",
    "     - **Worst Case**: **O(n)** (if all keys hash to the same bucket, requiring traversal of the linked list in that bucket).\r\n",
    "   - **Reason**: Accessing the bucket using the hash function is constant time, but resolving collisions may require traversal of the bucket.\r\n",
    "\r\n",
    "---\r\n",
    "\r\n",
    "### Deletions:\r\n",
    "2. **Delete a key-value pair**:\r\n",
    "   - **Time Complexity**: \r\n",
    "     - **Average Case**: **O(1)**.\r\n",
    "     - **Worst Case**: **O(n)**.\r\n",
    "   - **Reason**: The key is hashed to its bucket, and the linked list in the bucket is traversed to locate the key.\r\n",
    "\r\n",
    "---\r\n",
    "\r\n",
    "### Searching:\r\n",
    "3. **Search for a key**:\r\n",
    "   - **Time Complexity**: \r\n",
    "     - **Average Case**: **O(1)**.\r\n",
    "     - **Worst Case**: **O(n)**.\r\n",
    "   - **Reason**: Accessing the bucket using the hash function is constant time, but searching within the bucket may require traversal.\r\n",
    "\r\n",
    "---\r\n",
    "\r\n",
    "### Resizing:\r\n",
    "4. **Resize the hash table**:\r\n",
    "   - **Time Complexity**: **O(n)**.\r\n",
    "   - **Reason**: Resizing involves rehashing and reinserting all existing key-value pairs into the new array of buckets.\r\n",
    "\r\n",
    "---\r\n",
    "\r\n",
    "### Utility:\r\n",
    "5. **Load Factor**:\r\n",
    "   - **Time Complexity**: **O(1)**.\r\n",
    "   - **Reason**: The `len(ht)` call is constant time, as the `__len__` method directly returns the precomputed number of items.\r\n",
    "\r\n",
    "6. **Iteration (`__iter__`)**:\r\n",
    "   - **Time Complexity**: **O(n)**.\r\n",
    "   - **Reason**: Traverses all buckets and linked lists to yield each key-value pair.\r\n",
    "\r\n",
    "7. **Get Items**:\r\n",
    "   - **Time Complexity**: **O(n)**.\r\n",
    "   - **Reason**: Iterates over all buckets to retrieve all key-value pairs.\r\n",
    "\r\n",
    "8. **Get Keys**:\r\n",
    "   - **Time Complexity**: **O(n)**.\r\n",
    "   - **Reason**: Iterates over all buckets to retrieve all keys.\r\n",
    "\r\n",
    "9. **Get Values**:\r\n",
    "   - **Time Complexity**: **O(n)**.\r\n",
    "   - **Reason**: Iterates over all buckets to retrieve all values.\r\n",
    "\r\n",
    "10. **Visualize Hash Table**:\r\n",
    "    - **Time Complexity**: **O(n)**.\r\n",
    "    - **Reason**: Iterates over all buckets and linked lists to produce a dictionary representation.\r\n",
    "\r\n",
    "11. **Get Hash Table Size (`__len__`)**:\r\n",
    "    - **Time Complexity**: **O(1)**.\r\n",
    "    - **Reason**: The `__len__` method directly returns the precomputed `n_items` attribute.\r\n",
    "\r\n",
    "---\r\n",
    "\r\n",
    "### Summary:\r\n",
    "\r\n",
    "| Operation                     | Time Complexity (Average) | Time Complexity (Worst) |\r\n",
    "|-------------------------------|---------------------------|--------------------------|\r\n",
    "| Insert (key, value)           | O(1)                     | O(n)                    |\r\n",
    "| Delete a key-value pair       | O(1)                     | O(n)                    |\r\n",
    "| Search for a key              | O(1)                     | O(n)                    |\r\n",
    "| Resize                        | O(n)                     | O(n)                    |\r\n",
    "| Load Factor                   | O(1)                     | O(1)                    |\r\n",
    "| Iterate (`__iter__`)          | O(n)                     | O(n)                    |\r\n",
    "| Get Items                     | O(n)                     | O(n)                    |\r\n",
    "| Get Keys                      | O(n)                     | O(n)                    |\r\n",
    "| Get Values                    | O(n)                     | O(n)                    |\r\n",
    "| Visualize Hash Table          | O(n)                     | O(n)                    |\r\n",
    "| Get Hash Table Size (`__len__`)| O(1)                     | O(1)                    |\r\n",
    "\r\n",
    "### Notes:\r\n",
    "- **n**: Total number of key-value pairs in the hash table.\r\n",
    "- **m**: Number of buckets in the hash table.\r\n",
    "- The performance heavily depends on the distribution of keys across buckets and the load factor of the table.\r\n"
   ]
  },
  {
   "cell_type": "markdown",
   "id": "68fd3c1f-f55f-47e8-8174-13278ef2f4ec",
   "metadata": {},
   "source": [
    "## Testing"
   ]
  },
  {
   "cell_type": "markdown",
   "id": "59d48385-ece2-4d68-9119-26bc395af257",
   "metadata": {},
   "source": [
    "Test the constructor and the insert function:"
   ]
  },
  {
   "cell_type": "code",
   "execution_count": 104,
   "id": "72d0fd04-cae9-496c-9427-86c706cdce23",
   "metadata": {},
   "outputs": [
    {
     "name": "stdout",
     "output_type": "stream",
     "text": [
      "This key doesn't have a corresponding bucket yet. Try an existing key!\n"
     ]
    },
    {
     "data": {
      "text/plain": [
       "(6, None, 8, 80)"
      ]
     },
     "execution_count": 104,
     "metadata": {},
     "output_type": "execute_result"
    }
   ],
   "source": [
    "ht = hash_table(size=10)\n",
    "ht.insert(\"key1\", \"value1\")\n",
    "ht.insert(\"1\", 6)\n",
    "ht.insert(\"11\", 8)\n",
    "ht.insert(\"5\", 80)\n",
    "ht.insert(\"323\" , 87)\n",
    "\n",
    "ht.search(\"1\") , ht.search(\"6\") , ht.search(\"11\") , ht.search(\"5\")"
   ]
  },
  {
   "cell_type": "markdown",
   "id": "60e748f5-c06e-41bb-9828-1d85c23785c2",
   "metadata": {},
   "source": [
    "Test the hash function:"
   ]
  },
  {
   "cell_type": "code",
   "execution_count": 105,
   "id": "64d350bc-b522-4711-a1c4-c261017db264",
   "metadata": {},
   "outputs": [
    {
     "data": {
      "text/plain": [
       "(9, 2, 6, 8, 0, 8)"
      ]
     },
     "execution_count": 105,
     "metadata": {},
     "output_type": "execute_result"
    }
   ],
   "source": [
    "ht._hash(\"key1\") , ht._hash(\"1\") , ht._hash(\"11\") , ht._hash(\"5\") , ht._hash(\"56\") , ht._hash(\"323\")"
   ]
  },
  {
   "cell_type": "markdown",
   "id": "cfe2f7c2-ff87-4335-a559-9b4b2de4f772",
   "metadata": {},
   "source": [
    "Test the visualization function:"
   ]
  },
  {
   "cell_type": "code",
   "execution_count": 106,
   "id": "02dff395-fa1b-4ef5-ab67-aa9395315581",
   "metadata": {},
   "outputs": [
    {
     "data": {
      "text/plain": [
       "{'bucket_0': '',\n",
       " 'bucket_1': '',\n",
       " 'bucket_2': [('1', 6)],\n",
       " 'bucket_3': '',\n",
       " 'bucket_4': '',\n",
       " 'bucket_5': '',\n",
       " 'bucket_6': [('11', 8)],\n",
       " 'bucket_7': '',\n",
       " 'bucket_8': [('323', 87), ('5', 80)],\n",
       " 'bucket_9': [('key1', 'value1')]}"
      ]
     },
     "execution_count": 106,
     "metadata": {},
     "output_type": "execute_result"
    }
   ],
   "source": [
    "ht.visualize_hash_table()"
   ]
  },
  {
   "cell_type": "markdown",
   "id": "9a7c2597-cec7-47da-8d6f-0fb61f84969e",
   "metadata": {},
   "source": [
    "Test the len function:"
   ]
  },
  {
   "cell_type": "code",
   "execution_count": 107,
   "id": "3105b712-f13b-4e49-aeef-de44f596ebbf",
   "metadata": {},
   "outputs": [
    {
     "data": {
      "text/plain": [
       "5"
      ]
     },
     "execution_count": 107,
     "metadata": {},
     "output_type": "execute_result"
    }
   ],
   "source": [
    "ht.n_items"
   ]
  },
  {
   "cell_type": "markdown",
   "id": "c38d203f-a786-47be-8138-e3bbb478cc97",
   "metadata": {},
   "source": [
    "Test the get functions:"
   ]
  },
  {
   "cell_type": "code",
   "execution_count": 108,
   "id": "bc7daca9-563f-436f-b184-7e5f935ba99e",
   "metadata": {},
   "outputs": [
    {
     "data": {
      "text/plain": [
       "([('1', 6), ('11', 8), ('323', 87), ('5', 80), ('key1', 'value1')],\n",
       " ['1', '11', '323', '5', 'key1'],\n",
       " [6, 8, 87, 80, 'value1'])"
      ]
     },
     "execution_count": 108,
     "metadata": {},
     "output_type": "execute_result"
    }
   ],
   "source": [
    "ht.get_items() , ht.get_keys() , ht.get_values()"
   ]
  },
  {
   "cell_type": "markdown",
   "id": "1412b37f-e0dc-41bb-bb3d-6edb03451464",
   "metadata": {},
   "source": [
    "Test the delete and search functions:"
   ]
  },
  {
   "cell_type": "code",
   "execution_count": 109,
   "id": "56067a9e-7e78-47c5-b06a-e9635229f545",
   "metadata": {},
   "outputs": [
    {
     "name": "stdout",
     "output_type": "stream",
     "text": [
      "This key is not found in the buckets. Try an existing key!\n"
     ]
    },
    {
     "data": {
      "text/plain": [
       "([('1', 6), ('11', 8), ('323', 87), ('key1', 'value1')],\n",
       " ['1', '11', '323', 'key1'],\n",
       " [6, 8, 87, 'value1'])"
      ]
     },
     "execution_count": 109,
     "metadata": {},
     "output_type": "execute_result"
    }
   ],
   "source": [
    "ht.delete(\"5\")\n",
    "ht.search(\"5\")\n",
    "\n",
    "ht.get_items() , ht.get_keys() , ht.get_values()"
   ]
  },
  {
   "cell_type": "markdown",
   "id": "28d528b2-e34e-4099-be4e-6cfaf57670e1",
   "metadata": {},
   "source": [
    "Test the Load function:"
   ]
  },
  {
   "cell_type": "code",
   "execution_count": 110,
   "id": "7e38174b-0268-4ce0-b752-8ce2fd24c15c",
   "metadata": {},
   "outputs": [
    {
     "data": {
      "text/plain": [
       "0.4"
      ]
     },
     "execution_count": 110,
     "metadata": {},
     "output_type": "execute_result"
    }
   ],
   "source": [
    "ht.load_factor()"
   ]
  },
  {
   "cell_type": "markdown",
   "id": "766a2d9d-beb5-4ac4-9539-d3ee6656175c",
   "metadata": {},
   "source": [
    "Test resize function:"
   ]
  },
  {
   "cell_type": "code",
   "execution_count": 111,
   "id": "a02681bf-8a9a-4a8a-8c2a-3db70dfc6a21",
   "metadata": {},
   "outputs": [
    {
     "data": {
      "text/plain": [
       "({'bucket_0': '',\n",
       "  'bucket_1': '',\n",
       "  'bucket_2': [('1', 6)],\n",
       "  'bucket_3': '',\n",
       "  'bucket_4': '',\n",
       "  'bucket_5': '',\n",
       "  'bucket_6': [('11', 8)],\n",
       "  'bucket_7': '',\n",
       "  'bucket_8': [('5', 80)],\n",
       "  'bucket_9': [('key1', 'value1')]},\n",
       " 4)"
      ]
     },
     "execution_count": 111,
     "metadata": {},
     "output_type": "execute_result"
    }
   ],
   "source": [
    "ht = hash_table(size=10)\n",
    "ht.insert(\"key1\", \"value1\")\n",
    "ht.insert(\"1\", 6)\n",
    "ht.insert(\"11\", 8)\n",
    "ht.insert(\"5\", 80)\n",
    "\n",
    "\n",
    "ht.visualize_hash_table() , len(ht)"
   ]
  },
  {
   "cell_type": "code",
   "execution_count": 112,
   "id": "eb55d372-c1df-406a-8383-a8ec385ff6b6",
   "metadata": {},
   "outputs": [
    {
     "name": "stdout",
     "output_type": "stream",
     "text": [
      "Resizing hash table...\n",
      "ht.size:  20\n"
     ]
    },
    {
     "data": {
      "text/plain": [
       "({'bucket_0': '',\n",
       "  'bucket_1': '',\n",
       "  'bucket_2': [('1', 6)],\n",
       "  'bucket_3': '',\n",
       "  'bucket_4': '',\n",
       "  'bucket_5': '',\n",
       "  'bucket_6': '',\n",
       "  'bucket_7': '',\n",
       "  'bucket_8': [('5', 80)],\n",
       "  'bucket_9': '',\n",
       "  'bucket_10': '',\n",
       "  'bucket_11': '',\n",
       "  'bucket_12': '',\n",
       "  'bucket_13': '',\n",
       "  'bucket_14': '',\n",
       "  'bucket_15': '',\n",
       "  'bucket_16': [('11', 8)],\n",
       "  'bucket_17': '',\n",
       "  'bucket_18': '',\n",
       "  'bucket_19': [('key1', 'value1')]},\n",
       " 4)"
      ]
     },
     "execution_count": 112,
     "metadata": {},
     "output_type": "execute_result"
    }
   ],
   "source": [
    "ht.resize()\n",
    "print(\"ht.size: \" , ht.size)\n",
    "ht.visualize_hash_table() , len(ht)"
   ]
  },
  {
   "cell_type": "code",
   "execution_count": 58,
   "id": "bd6ebbff-623b-4341-9fca-4dac1de1163c",
   "metadata": {},
   "outputs": [
    {
     "data": {
      "text/plain": [
       "({'bucket_0': '',\n",
       "  'bucket_1': '',\n",
       "  'bucket_2': [('1', 6)],\n",
       "  'bucket_3': '',\n",
       "  'bucket_4': '',\n",
       "  'bucket_5': '',\n",
       "  'bucket_6': [('11', 8)],\n",
       "  'bucket_7': '',\n",
       "  'bucket_8': [('323', 87), ('5', 80)],\n",
       "  'bucket_9': [('key1', 'value1')]},\n",
       " 5)"
      ]
     },
     "execution_count": 58,
     "metadata": {},
     "output_type": "execute_result"
    }
   ],
   "source": [
    "ht = hash_table(size=10)\n",
    "ht.insert(\"key1\", \"value1\")\n",
    "ht.insert(\"1\", 6)\n",
    "ht.insert(\"11\", 8)\n",
    "ht.insert(\"5\", 80)\n",
    "ht.insert(\"323\" , 87)\n",
    "\n",
    "ht.visualize_hash_table() , len(ht)"
   ]
  },
  {
   "cell_type": "code",
   "execution_count": 59,
   "id": "90f0aa3f-4391-461a-a4a8-2592c6bbdb53",
   "metadata": {},
   "outputs": [
    {
     "name": "stdout",
     "output_type": "stream",
     "text": [
      "Resizing hash table...\n",
      "ht.size:  5\n"
     ]
    },
    {
     "data": {
      "text/plain": [
       "{'bucket_0': '',\n",
       " 'bucket_1': [('11', 8)],\n",
       " 'bucket_2': [('1', 6)],\n",
       " 'bucket_3': [('5', 80), ('323', 87)],\n",
       " 'bucket_4': [('key1', 'value1')]}"
      ]
     },
     "execution_count": 59,
     "metadata": {},
     "output_type": "execute_result"
    }
   ],
   "source": [
    "ht.resize(5)\n",
    "print(\"ht.size: \" , ht.size)\n",
    "ht.visualize_hash_table()"
   ]
  },
  {
   "cell_type": "markdown",
   "id": "edce6752-4b9d-47e4-9e65-ff06f41f9ca4",
   "metadata": {},
   "source": [
    "Test the iterator:"
   ]
  },
  {
   "cell_type": "code",
   "execution_count": 60,
   "id": "d563aa9f-188d-46a2-9304-949ffba2b76b",
   "metadata": {},
   "outputs": [
    {
     "name": "stdout",
     "output_type": "stream",
     "text": [
      "11 8\n",
      "1 6\n",
      "5 80\n",
      "323 87\n",
      "key1 value1\n"
     ]
    }
   ],
   "source": [
    "for key, value in ht:\n",
    "    print(key, value)"
   ]
  }
 ],
 "metadata": {
  "kernelspec": {
   "display_name": "Python 3 (ipykernel)",
   "language": "python",
   "name": "python3"
  },
  "language_info": {
   "codemirror_mode": {
    "name": "ipython",
    "version": 3
   },
   "file_extension": ".py",
   "mimetype": "text/x-python",
   "name": "python",
   "nbconvert_exporter": "python",
   "pygments_lexer": "ipython3",
   "version": "3.11.7"
  }
 },
 "nbformat": 4,
 "nbformat_minor": 5
}
