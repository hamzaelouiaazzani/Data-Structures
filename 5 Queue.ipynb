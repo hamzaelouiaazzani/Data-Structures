{
 "cells": [
  {
   "cell_type": "markdown",
   "id": "a5b0d220-af14-4464-ba85-fbd0efeaafad",
   "metadata": {},
   "source": [
    "# Implimentation of Queue data structure:"
   ]
  },
  {
   "cell_type": "markdown",
   "id": "385c1a97-9209-43e5-81d3-f6fd3e76280b",
   "metadata": {},
   "source": [
    "\n",
    "\r\n",
    "A **Queue** is a linear data structure that follows the **First In, First Out (FIFO)** principle. This means the first element added is the first one to be removed. Queues are commonly used in applications like:\r\n",
    "- Task scheduling (e.g., CPU scheduling, printer tasks)\r\n",
    "- Breadth-First Search (BFS) in graph traversal\r\n",
    "- Handling asynchronous data (e.g., message queues)\r\n",
    "- Simulating real-world scenarios like queues at a ticket counter\r\n",
    "\r\n",
    "## Implementation Types\r\n",
    "1. **Array-Based Queue**\r\n",
    "   - Stores elements in a fixed-size or dynamic array.\r\n",
    "   - Provides fast access but may suffer from inefficiency due to shifts during dequeue operations (unless implemented as a circular queue).\r\n",
    "\r\n",
    "2. **Linked-List-Based Queue**\r\n",
    "   - Uses nodes to store elements dynamically.\r\n",
    "   - Efficient enqueue and dequeue operations as no shifting is required.\r\n",
    "   - Allows flexible sizing but has additional overhead due to poiter management.\r\n"
   ]
  },
  {
   "cell_type": "markdown",
   "id": "1539319e-1cf3-458f-90a4-1f8f3216cce9",
   "metadata": {},
   "source": [
    "## LinkedList-Based Queue"
   ]
  },
  {
   "cell_type": "code",
   "execution_count": 16,
   "id": "76e283ce-a303-4ac0-af18-f4214187d3ae",
   "metadata": {},
   "outputs": [],
   "source": [
    "class item():\n",
    "    def __init__(self , data = None , next_item = None):\n",
    "        self.data = data\n",
    "        self.next_item = next_item"
   ]
  },
  {
   "cell_type": "code",
   "execution_count": 74,
   "id": "326ab8e0-dc07-43ed-a7df-370dcb43ad87",
   "metadata": {},
   "outputs": [],
   "source": [
    "class queue(): \n",
    "\n",
    "    def __init__(self , data = None):\n",
    "        '''\n",
    "        this constructor initializes the Queue\n",
    "        '''\n",
    "        self.front = item(data) if data is not None else None\n",
    "        self.rear = self.front\n",
    "        \n",
    "        self.size = 0 if data is None else 1\n",
    "\n",
    "    def enqueue(self , data):\n",
    "        '''\n",
    "        The operation of adding an element to the rear of the queue\n",
    "        '''\n",
    "        \n",
    "        # create a new item that points to NULL\n",
    "        new_item = item(data , None)\n",
    "\n",
    "        if not(self.isEmpty()):\n",
    "            # let the current rear if exists points to the the new item\n",
    "            self.rear.next_item = new_item\n",
    "        else: \n",
    "            self.front = new_item\n",
    "            \n",
    "        # let the new item be the new rear of the queue\n",
    "        self.rear = new_item\n",
    "\n",
    "        # increase the size of the queue\n",
    "        self.size = self.size + 1\n",
    "        \n",
    "\n",
    "    def dequeue(self):\n",
    "        '''\n",
    "        The operation of removing and returning the data from the front of the queue\n",
    "        '''\n",
    "        if not(self.isEmpty()):\n",
    "            \n",
    "            # data to be returned by the method and removed from the queue\n",
    "            removed_data = self.front.data\n",
    "            \n",
    "            # get the second item in the queue list\n",
    "            second_item = self.front.next_item\n",
    "\n",
    "            # delete the current front\n",
    "            del(self.front)\n",
    "\n",
    "            # let the second item be the new front\n",
    "            self.front = second_item\n",
    "\n",
    "            # if only one item existing in the queue, let the rear be NULL\n",
    "            if self.size == 1:\n",
    "                self.rear = None\n",
    "                \n",
    "            # decrease the size of the Queue\n",
    "            self.size = self.size - 1\n",
    "            \n",
    "            return removed_data\n",
    "\n",
    "\n",
    "    def peek(self):\n",
    "        '''\n",
    "        The operation of viewing the data from the front of the queue\n",
    "        '''\n",
    "        if not self.isEmpty():\n",
    "            return self.front.data\n",
    "\n",
    "        \n",
    "    def isEmpty(self):\n",
    "        '''\n",
    "        The operation of verifying if the queue is empty or NOT\n",
    "        '''        \n",
    "        return not(self.size)\n",
    "\n",
    "        \n",
    "    def __len__(self):\n",
    "        '''\n",
    "        The operation retruning the size of the queue\n",
    "        '''        \n",
    "        return self.size  \n",
    "\n",
    "\n",
    "    def to_python_list(self):\n",
    "        '''\n",
    "        The operation of returning the data and adresses and pointers of the queue in a python list (for easy viewing and debuging)\n",
    "        '''\n",
    "        item_data_python_list = []\n",
    "        current_item = self.front\n",
    "        if self.size:\n",
    "            item_data_python_list.append(current_item.data)\n",
    "            while current_item.next_item is not None:\n",
    "                current_item = current_item.next_item\n",
    "                if current_item.data is not None:\n",
    "                    item_data_python_list.append(current_item.data)\n",
    "        return item_data_python_list"
   ]
  },
  {
   "cell_type": "markdown",
   "id": "3fd980ff-a700-48e8-adf1-9f232366cfd3",
   "metadata": {},
   "source": [
    "### Time Complexity Analysis of the Queue Implementation\n",
    "\n",
    "Below is the time complexity analysis for each operation in the **Queue** class based on the linkedlist implimentation implementation:\n",
    "\n",
    "| Operation              | Time Complexity |\n",
    "|------------------------|-----------------|\n",
    "| Enqueue                | O(1)           |\n",
    "| Dequeue                | O(1)           |\n",
    "| Peek                   | O(1)           |\n",
    "| IsEmpty                | O(1)           |\n",
    "| Get Length (`__len__`) | O(1)           |\n",
    "| Convert to Python List (`to_python_list`) | O(n) |\n"
   ]
  },
  {
   "cell_type": "code",
   "execution_count": 40,
   "id": "21e847b1-2fe6-4bcf-bb78-2f92919649c6",
   "metadata": {},
   "outputs": [
    {
     "data": {
      "text/plain": [
       "(0, [])"
      ]
     },
     "execution_count": 40,
     "metadata": {},
     "output_type": "execute_result"
    }
   ],
   "source": [
    "my_queue = queue(6)\n",
    "len(my_queue) , my_queue.to_python_list"
   ]
  },
  {
   "cell_type": "code",
   "execution_count": 55,
   "id": "1e75179e-a26a-4738-8f90-57b37490e1ea",
   "metadata": {},
   "outputs": [
    {
     "data": {
      "text/plain": [
       "(None, None)"
      ]
     },
     "execution_count": 55,
     "metadata": {},
     "output_type": "execute_result"
    }
   ],
   "source": [
    "my_queue = queue()\n",
    "my_queue.front , my_queue.rear"
   ]
  },
  {
   "cell_type": "code",
   "execution_count": 59,
   "id": "5f22861d-0cb6-4be3-bde3-2d506585287c",
   "metadata": {},
   "outputs": [
    {
     "data": {
      "text/plain": [
       "(7, 7)"
      ]
     },
     "execution_count": 59,
     "metadata": {},
     "output_type": "execute_result"
    }
   ],
   "source": [
    "my_queue = queue(7)\n",
    "my_queue.front.data , my_queue.rear.data"
   ]
  },
  {
   "cell_type": "code",
   "execution_count": 60,
   "id": "7ae7bf96-6efc-448f-8e3c-0bb7354a71b3",
   "metadata": {},
   "outputs": [
    {
     "data": {
      "text/plain": [
       "(7, 2)"
      ]
     },
     "execution_count": 60,
     "metadata": {},
     "output_type": "execute_result"
    }
   ],
   "source": [
    "my_queue = queue(7)\n",
    "my_queue.enqueue(2)\n",
    "\n",
    "my_queue.front.data , my_queue.rear.data"
   ]
  },
  {
   "cell_type": "code",
   "execution_count": 52,
   "id": "8300c790-6e2a-4435-9696-37396cefc668",
   "metadata": {},
   "outputs": [
    {
     "name": "stdout",
     "output_type": "stream",
     "text": [
      "1\n"
     ]
    },
    {
     "data": {
      "text/plain": [
       "(2, [2, 3])"
      ]
     },
     "execution_count": 52,
     "metadata": {},
     "output_type": "execute_result"
    }
   ],
   "source": [
    "my_queue = queue()\n",
    "\n",
    "my_queue.enqueue(1)\n",
    "my_queue.enqueue(2)\n",
    "my_queue.enqueue(3)\n",
    "\n",
    "print(my_queue.dequeue())\n",
    "\n",
    "len(my_queue) , my_queue.to_python_list() "
   ]
  },
  {
   "cell_type": "code",
   "execution_count": 53,
   "id": "8e439d57-a970-425a-b007-a0efb8da653e",
   "metadata": {},
   "outputs": [
    {
     "name": "stdout",
     "output_type": "stream",
     "text": [
      "2\n"
     ]
    },
    {
     "data": {
      "text/plain": [
       "(1, [3])"
      ]
     },
     "execution_count": 53,
     "metadata": {},
     "output_type": "execute_result"
    }
   ],
   "source": [
    "print(my_queue.dequeue())\n",
    "len(my_queue) , my_queue.to_python_list()"
   ]
  },
  {
   "cell_type": "code",
   "execution_count": 54,
   "id": "c03ca5ee-76e2-45cb-aef4-821b47a34058",
   "metadata": {},
   "outputs": [
    {
     "name": "stdout",
     "output_type": "stream",
     "text": [
      "3\n"
     ]
    },
    {
     "data": {
      "text/plain": [
       "(0, [])"
      ]
     },
     "execution_count": 54,
     "metadata": {},
     "output_type": "execute_result"
    }
   ],
   "source": [
    "print(my_queue.dequeue())\n",
    "len(my_queue) , my_queue.to_python_list()"
   ]
  },
  {
   "cell_type": "code",
   "execution_count": 62,
   "id": "119f2330-c40c-4673-a941-3cd409e30544",
   "metadata": {},
   "outputs": [
    {
     "data": {
      "text/plain": [
       "1"
      ]
     },
     "execution_count": 62,
     "metadata": {},
     "output_type": "execute_result"
    }
   ],
   "source": [
    "my_queue = queue()\n",
    "\n",
    "my_queue.enqueue(1)\n",
    "my_queue.enqueue(2)\n",
    "my_queue.enqueue(3)\n",
    "\n",
    "my_queue.peek()"
   ]
  },
  {
   "cell_type": "markdown",
   "id": "3af8dcc1-0be6-45f6-b324-c0a0072a6cb3",
   "metadata": {},
   "source": [
    "## Array-Based Queue"
   ]
  },
  {
   "cell_type": "code",
   "execution_count": 71,
   "id": "0d2aedd2-a080-453b-84c0-ec17ef7ef8c3",
   "metadata": {},
   "outputs": [],
   "source": [
    "class queue():\n",
    "    def __init__(self):\n",
    "        self.queue = []\n",
    "\n",
    "    def enqueue(self , data):\n",
    "        '''\n",
    "        The operation of adding an element to the rear of the queue\n",
    "        '''\n",
    "        self.queue.append(data)\n",
    "\n",
    "    def dequeue(self):\n",
    "        '''\n",
    "        The operation of removing and returning an element from the front of the queue\n",
    "        '''\n",
    "        if not(self.isEmpty()):\n",
    "            return self.queue.pop(0)\n",
    "\n",
    "    def peek(self):\n",
    "        if not(self.isEmpty()):\n",
    "            return self.queue[0]\n",
    "\n",
    "    def isEmpty(self):\n",
    "        return not(len(self.queue))\n",
    "\n",
    "        \n",
    "    def __len__(self):\n",
    "        return len(self.queue)  "
   ]
  },
  {
   "cell_type": "markdown",
   "id": "55c19467-7872-4b2f-b06c-b9ded3ab93e4",
   "metadata": {},
   "source": [
    "| Operation              | Time Complexity |\n",
    "|------------------------|-----------------|\n",
    "| Enqueue                | O(1)           |\n",
    "| Dequeue                | O(1)           |\n",
    "| Peek                   | O(1)           |\n",
    "| IsEmpty                | O(1)           |\n",
    "| Get Length (`__len__`) | O(1)           |"
   ]
  },
  {
   "cell_type": "code",
   "execution_count": 72,
   "id": "67bbe23f-e9d0-4b61-911f-be791179237f",
   "metadata": {},
   "outputs": [
    {
     "name": "stdout",
     "output_type": "stream",
     "text": [
      "1\n"
     ]
    },
    {
     "data": {
      "text/plain": [
       "(2, [2, 3])"
      ]
     },
     "execution_count": 72,
     "metadata": {},
     "output_type": "execute_result"
    }
   ],
   "source": [
    "my_queue = queue()\n",
    "\n",
    "my_queue.enqueue(1)\n",
    "my_queue.enqueue(2)\n",
    "my_queue.enqueue(3)\n",
    "\n",
    "print(my_queue.dequeue())\n",
    "\n",
    "len(my_queue) , my_queue.queue"
   ]
  },
  {
   "cell_type": "code",
   "execution_count": 73,
   "id": "6b107018-b194-4fbc-8d21-469381482543",
   "metadata": {},
   "outputs": [
    {
     "data": {
      "text/plain": [
       "1"
      ]
     },
     "execution_count": 73,
     "metadata": {},
     "output_type": "execute_result"
    }
   ],
   "source": [
    "my_queue = queue()\n",
    "\n",
    "my_queue.enqueue(1)\n",
    "my_queue.enqueue(2)\n",
    "my_queue.enqueue(3)\n",
    "\n",
    "my_queue.peek()"
   ]
  },
  {
   "cell_type": "code",
   "execution_count": null,
   "id": "eea38006-c184-4501-9add-78d6f27e40a1",
   "metadata": {},
   "outputs": [],
   "source": []
  }
 ],
 "metadata": {
  "kernelspec": {
   "display_name": "Python 3 (ipykernel)",
   "language": "python",
   "name": "python3"
  },
  "language_info": {
   "codemirror_mode": {
    "name": "ipython",
    "version": 3
   },
   "file_extension": ".py",
   "mimetype": "text/x-python",
   "name": "python",
   "nbconvert_exporter": "python",
   "pygments_lexer": "ipython3",
   "version": "3.11.7"
  }
 },
 "nbformat": 4,
 "nbformat_minor": 5
}
