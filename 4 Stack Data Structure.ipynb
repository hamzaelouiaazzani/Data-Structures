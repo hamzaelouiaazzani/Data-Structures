{
 "cells": [
  {
   "cell_type": "markdown",
   "id": "49a0fd5c-cbc9-44be-aa3e-07c09783ed86",
   "metadata": {},
   "source": [
    "# Implimentation of Stack data structure:"
   ]
  },
  {
   "cell_type": "markdown",
   "id": "2723e94d-2ea3-45fc-b490-a19b04554121",
   "metadata": {},
   "source": [
    "\r\n",
    "A **Stack** is a linear data structure that follows the **Last In, First Out (LIFO)** principle. This means the last element added is the first one to be removed. Stacks are commonly used in applications like:\r\n",
    "- Expression evaluation\r\n",
    "- Function call management (e.g., recursion)\r\n",
    "- Undo/Redo operations\r\n",
    "- Backtracking algorithms (e.g., DFS)\r\n",
    "\r\n",
    "## Implementation Types\r\n",
    "1. **Array-Based Stack**\r\n",
    "   - Stores elements in a fixed-size or dynamic array.\r\n",
    "   - Provides fast access but may be limited by predefined size (for fixed stacks).\r\n",
    "\r\n",
    "2. **Linked-List-Based Stack**\r\n",
    "   - Uses nodes to store elements dynamically.\r\n",
    "   - Allows flexible sizing but has additional overhead due to pointer management.\r\n"
   ]
  },
  {
   "cell_type": "markdown",
   "id": "1f93e7b1-2857-44a5-9ea3-2be71e6d5010",
   "metadata": {},
   "source": [
    "## Linked-List-Based Stack"
   ]
  },
  {
   "cell_type": "markdown",
   "id": "115adc83-b890-48b0-9688-4d0889ec1028",
   "metadata": {},
   "source": [
    "The core component of a linked-list-based stacks is the item (equivalent to a node in linked lists). Each item has two attributes: the data it contains and a reference (adress) to the element below it in the stack."
   ]
  },
  {
   "cell_type": "code",
   "execution_count": 8,
   "id": "5d1923a9-ef39-4b23-a0b8-7fc72b5a1879",
   "metadata": {},
   "outputs": [],
   "source": [
    "class item():\n",
    "    def __init__(self , data = None , next_item = None):\n",
    "        self.data = data\n",
    "        self.next_item = next_item"
   ]
  },
  {
   "cell_type": "code",
   "execution_count": 25,
   "id": "0f0085ac-ab88-448f-817e-58df32576bec",
   "metadata": {},
   "outputs": [],
   "source": [
    "class stack(): \n",
    "\n",
    "    def __init__(self , base_data = None):\n",
    "        '''\n",
    "        this constructor initializes the stack with the base item (the bottom of the stack) which is also the top item at the begining\n",
    "        '''\n",
    "        self.top = item(base_data) if base_data is not None else None\n",
    "        self.size = 0 if base_data is None else 1\n",
    "    \n",
    "    # push data to the top of the stack\n",
    "    def push(self , data):\n",
    "        # create new item that points to the current top of the stack\n",
    "        new_item = item(data , self.top)\n",
    "        # update the top itme with the new item\n",
    "        self.top = new_item\n",
    "        self.size = self.size + 1\n",
    "    \n",
    "    # remove the current top item and return the data of the removed item\n",
    "    def pop(self):\n",
    "        if not self.isEmpty():\n",
    "            # extract the item that comes after the current top\n",
    "            new_top = self.top.next_item\n",
    "            data_to_return = self.top.data\n",
    "            # delete the current top\n",
    "            del(self.top)\n",
    "            # define new_top as the new top item of the stack\n",
    "            self.top = new_top\n",
    "\n",
    "            self.size = self.size - 1\n",
    "            return data_to_return\n",
    "\n",
    "    \n",
    "    # View the element at the top of the stack without removing it\n",
    "    def peek(self):\n",
    "        if not self.isEmpty():\n",
    "            return self.top.data\n",
    "\n",
    "    \n",
    "    # return True if the stack is empty, False otherwise\n",
    "    def isEmpty(self):\n",
    "        return not(self.size)\n",
    "    #     return self.top.next_item is None and self.top.data is None\n",
    "\n",
    "    \n",
    "    def __len__(self):\n",
    "        return self.size\n",
    "            \n",
    "    def to_python_list(self):\n",
    "        item_data_python_list = []\n",
    "        current_item = self.top\n",
    "        if self.size:\n",
    "            item_data_python_list.append(current_item.data)\n",
    "                \n",
    "            while current_item.next_item is not None:\n",
    "                current_item = current_item.next_item\n",
    "                if current_item.data is not None:\n",
    "                    item_data_python_list.append(current_item.data)\n",
    "        return item_data_python_list"
   ]
  },
  {
   "cell_type": "markdown",
   "id": "7bbd9505-4ef5-46ac-a498-4471846aed10",
   "metadata": {},
   "source": [
    "### Time Complexity Analysis of the Stack Implementation (Linkedlist implimentation)\n",
    "\n",
    "Below is the time complexity analysis for each operation in the **Stack** class, based on the provided implementation:\n",
    "\n",
    "#### Operations:\n",
    "\n",
    "1. **Push**:\n",
    "   - **Time Complexity**: **O(1)**\n",
    "   - **Reason**: Adding a new item only involves updating the `top` pointer and the stack size.\n",
    "\n",
    "2. **Pop**:\n",
    "   - **Time Complexity**: **O(1)**\n",
    "   - **Reason**: Removing the top item requires updating the `top` pointer and decrementing the stack size.\n",
    "\n",
    "3. **Peek**:\n",
    "   - **Time Complexity**: **O(1)**\n",
    "   - **Reason**: Accessing the `data` attribute of the `top` item involves a constant-time operation.\n",
    "\n",
    "4. **IsEmpty**:\n",
    "   - **Time Complexity**: **O(1)**\n",
    "   - **Reason**: Checking if the size is zero is a constant-time operation.\n",
    "\n",
    "5. **Get Length (`__len__`)**:\n",
    "   - **Time Complexity**: **O(1)**\n",
    "   - **Reason**: The size is stored as an attribute and can be accessed in constant time.\n",
    "\n",
    "6. **Convert to Python List (`to_python_list`)**:\n",
    "   - **Time Complexity**: **O(n)**\n",
    "   - **Reason**: Traversing the entire stack from `top` to the bottom to populate the list requires a linear-time traversal.\n",
    "\n",
    "---\n",
    "\n",
    "#### Summary Table:\n",
    "\n",
    "| Operation                   | Time Complexity |\n",
    "|-----------------------------|-----------------|\n",
    "| Push                        | O(1)           |\n",
    "| Pop                         | O(1)           |\n",
    "| Peek                        | O(1)           |\n",
    "| IsEmpty                     | O(1)           |\n",
    "| Get Length (`__len__`)      | O(1)           |\n",
    "| Convert to Python List      | O(n)           |\n"
   ]
  },
  {
   "cell_type": "markdown",
   "id": "edf6fafb-96c8-45c4-9f3d-3a5049bfda8f",
   "metadata": {},
   "source": [
    "### Test your LinkedList based Stack:"
   ]
  },
  {
   "cell_type": "code",
   "execution_count": 26,
   "id": "3cb29ed4-c951-409d-a5a8-3cdbc1c987db",
   "metadata": {},
   "outputs": [
    {
     "name": "stdout",
     "output_type": "stream",
     "text": [
      "len(my_stack) , my_stack.size , my_stack.isEmpty() : (0, 0, True)\n",
      "the components of my stack: []\n"
     ]
    }
   ],
   "source": [
    "my_stack = stack()\n",
    "print(f\"len(my_stack) , my_stack.size , my_stack.isEmpty() : {len(my_stack) , my_stack.size , my_stack.isEmpty() }\")\n",
    "print(f\"the components of my stack: {my_stack.to_python_list()}\")"
   ]
  },
  {
   "cell_type": "code",
   "execution_count": 12,
   "id": "5120c44d-7601-420f-a8f1-f576241b2496",
   "metadata": {},
   "outputs": [
    {
     "name": "stdout",
     "output_type": "stream",
     "text": [
      "len(my_stack) , my_stack.size , my_stack.isEmpty() : (1, 1, False)\n",
      "the components of my stack: [10]\n"
     ]
    }
   ],
   "source": [
    "my_stack = stack(10)\n",
    "print(f\"len(my_stack) , my_stack.size , my_stack.isEmpty() : {len(my_stack) , my_stack.size , my_stack.isEmpty() }\")\n",
    "print(f\"the components of my stack: {my_stack.to_python_list()}\")"
   ]
  },
  {
   "cell_type": "code",
   "execution_count": 16,
   "id": "5947ffbb-60b9-40b6-b904-b6e4f90ee075",
   "metadata": {},
   "outputs": [
    {
     "data": {
      "text/plain": [
       "([5, 3, 2, 1], 4)"
      ]
     },
     "execution_count": 16,
     "metadata": {},
     "output_type": "execute_result"
    }
   ],
   "source": [
    "my_stack = stack()\n",
    "my_stack.push(1)\n",
    "my_stack.push(2)\n",
    "my_stack.push(3)\n",
    "my_stack.push(5)\n",
    "\n",
    "my_stack.to_python_list() , len(my_stack)"
   ]
  },
  {
   "cell_type": "code",
   "execution_count": 20,
   "id": "215b5781-731e-483e-88dd-ca09d0b3417d",
   "metadata": {},
   "outputs": [],
   "source": [
    "my_stack = stack()\n",
    "my_stack.peek()"
   ]
  },
  {
   "cell_type": "code",
   "execution_count": 22,
   "id": "fff45871-1ea8-458d-a1ff-ed9d8e827819",
   "metadata": {},
   "outputs": [
    {
     "data": {
      "text/plain": [
       "3"
      ]
     },
     "execution_count": 22,
     "metadata": {},
     "output_type": "execute_result"
    }
   ],
   "source": [
    "my_stack = stack(29)\n",
    "my_stack.push(2)\n",
    "my_stack.push(3)\n",
    "\n",
    "my_stack.peek()"
   ]
  },
  {
   "cell_type": "code",
   "execution_count": 23,
   "id": "9551ebd0-4649-49af-a3f3-81a4475a93c7",
   "metadata": {},
   "outputs": [
    {
     "data": {
      "text/plain": [
       "[1]"
      ]
     },
     "execution_count": 23,
     "metadata": {},
     "output_type": "execute_result"
    }
   ],
   "source": [
    "my_stack = stack()\n",
    "my_stack.push(1)\n",
    "my_stack.push(2)\n",
    "my_stack.push(3)\n",
    "\n",
    "my_stack.pop()\n",
    "my_stack.pop()\n",
    "\n",
    "my_stack.to_python_list()"
   ]
  },
  {
   "cell_type": "code",
   "execution_count": 24,
   "id": "a9503807-0d2b-44bb-925e-541e4453e199",
   "metadata": {},
   "outputs": [],
   "source": [
    "my_stack = stack()\n",
    "my_stack.pop()"
   ]
  },
  {
   "cell_type": "markdown",
   "id": "27e95374-9f8b-480b-bafc-b574c8946c30",
   "metadata": {},
   "source": [
    "## Array-Based Stack"
   ]
  },
  {
   "cell_type": "code",
   "execution_count": 76,
   "id": "be3a7534-e438-4d51-9147-824ee7993c8e",
   "metadata": {},
   "outputs": [],
   "source": [
    "class stack(): \n",
    "\n",
    "    def __init__(self):\n",
    "        '''\n",
    "        this constructor initializes the stack with a python list\n",
    "        '''\n",
    "        self.stack = []\n",
    "    \n",
    "    # push data to the top of the stack\n",
    "    def push(self , data):\n",
    "        self.stack.append(data)\n",
    "    \n",
    "    # remove the current top item and return the data of the removed item\n",
    "    def pop(self):\n",
    "        if not self.isEmpty():\n",
    "            return self.stack.pop()\n",
    "\n",
    "    \n",
    "    # View the element at the top of the stack without removing it\n",
    "    def peek(self):\n",
    "        if not self.isEmpty():\n",
    "            return self.stack[-1]\n",
    "\n",
    "    \n",
    "    # return True if the stack is empty, False otherwise\n",
    "    def isEmpty(self):\n",
    "        return not(len(self))\n",
    "    #     return self.top.next_item is None and self.top.data is None\n",
    "\n",
    "    \n",
    "    def __len__(self):\n",
    "        return len(self.stack)"
   ]
  },
  {
   "cell_type": "markdown",
   "id": "f8ad2b0d-4338-4bea-b07e-583d639a7807",
   "metadata": {},
   "source": [
    "| Operation              | Time Complexity |\n",
    "|------------------------|-----------------|\n",
    "| Push                   | O(1)           |\n",
    "| Pop                    | O(1)           |\n",
    "| Peek                   | O(1)           |\n",
    "| IsEmpty                | O(1)           |\n",
    "| Get Length (`__len__`) | O(1)           |\n"
   ]
  },
  {
   "cell_type": "code",
   "execution_count": 79,
   "id": "d067aafd-4f00-494e-93c2-02800709de17",
   "metadata": {},
   "outputs": [
    {
     "name": "stdout",
     "output_type": "stream",
     "text": [
      "len(my_stack) , my_stack.isEmpty() : (0, True)\n"
     ]
    },
    {
     "data": {
      "text/plain": [
       "[]"
      ]
     },
     "execution_count": 79,
     "metadata": {},
     "output_type": "execute_result"
    }
   ],
   "source": [
    "my_stack = stack()\n",
    "print(f\"len(my_stack) , my_stack.isEmpty() : {len(my_stack) , my_stack.isEmpty() }\")\n",
    "my_stack.stack"
   ]
  },
  {
   "cell_type": "code",
   "execution_count": 87,
   "id": "bb77eec2-6184-4880-8456-924bf458ce7d",
   "metadata": {},
   "outputs": [
    {
     "data": {
      "text/plain": [
       "[1, 2, 3, 4, 5]"
      ]
     },
     "execution_count": 87,
     "metadata": {},
     "output_type": "execute_result"
    }
   ],
   "source": [
    "my_stack = stack()\n",
    "my_stack.push(1)\n",
    "my_stack.push(2)\n",
    "my_stack.push(3)\n",
    "my_stack.push(4)\n",
    "my_stack.push(5)\n",
    "\n",
    "my_stack.stack"
   ]
  },
  {
   "cell_type": "code",
   "execution_count": 88,
   "id": "8e042f6c-a939-46c9-9673-f73497e426be",
   "metadata": {},
   "outputs": [
    {
     "data": {
      "text/plain": [
       "[1, 2, 3]"
      ]
     },
     "execution_count": 88,
     "metadata": {},
     "output_type": "execute_result"
    }
   ],
   "source": [
    "my_stack.pop()\n",
    "my_stack.pop()\n",
    "my_stack.stack"
   ]
  },
  {
   "cell_type": "code",
   "execution_count": null,
   "id": "74856b85-0989-40e9-8ab9-354f2c1d8c99",
   "metadata": {},
   "outputs": [],
   "source": []
  }
 ],
 "metadata": {
  "kernelspec": {
   "display_name": "Python 3 (ipykernel)",
   "language": "python",
   "name": "python3"
  },
  "language_info": {
   "codemirror_mode": {
    "name": "ipython",
    "version": 3
   },
   "file_extension": ".py",
   "mimetype": "text/x-python",
   "name": "python",
   "nbconvert_exporter": "python",
   "pygments_lexer": "ipython3",
   "version": "3.11.7"
  }
 },
 "nbformat": 4,
 "nbformat_minor": 5
}
