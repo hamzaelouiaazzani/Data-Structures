{
 "cells": [
  {
   "cell_type": "markdown",
   "id": "b94f4fa7-4e80-4cbb-80e5-97ffa41eb448",
   "metadata": {},
   "source": [
    "# Implimentation of Deque (Double-Ended Queue) data structure: "
   ]
  },
  {
   "cell_type": "markdown",
   "id": "71faa285-bb44-47f3-a2ba-af01e22c3943",
   "metadata": {},
   "source": [
    "A **Deque** is a linear data structure that allows insertion and deletion of elements from both ends, providing flexibility over traditional queues or stacks. It can operate as:\n",
    "- A **Queue** (FIFO): Insert at rear, remove from front.\n",
    "- A **Stack** (LIFO): Insert and remove from the same end.\n",
    "\n",
    "Deques are commonly used in applications like:\n",
    "- Palindrome checking (e.g., comparing characters from both ends).\n",
    "- Sliding window algorithms in data processing.\n",
    "- Task scheduling (e.g., browsers' forward/backward navigation).\n",
    "- Implementing stacks or queues dynamically.\n",
    "\n",
    "## Implementation Types\n",
    "1. **Array-Based Deque**\n",
    "   - Uses a circular array to handle insertions and deletions at both ends efficiently.\n",
    "   - Provides fast access but requires resizing for dynamic growth.\n",
    "\n",
    "2. **Linked-List-Based Deque**\n",
    "   - Uses a doubly linked list where each node has pointers to the next and previous nodes.\n",
    "   - Efficient for dynamic insertions and deletions at both ends.\n",
    "   - Slightly higher memory overhead due to pointer management.\n"
   ]
  },
  {
   "cell_type": "markdown",
   "id": "0ffed573-5710-4c46-90b2-091f6a6b0bad",
   "metadata": {},
   "source": [
    "## LinkedList-Based Deque"
   ]
  },
  {
   "cell_type": "code",
   "execution_count": 4,
   "id": "603f4baf-cee0-47fe-b792-c5dc77a07120",
   "metadata": {},
   "outputs": [],
   "source": [
    "class item():\n",
    "    def __init__(self , data = None , next_item = None , previous_item = None):\n",
    "        self.data = data\n",
    "        self.next_item = next_item                # each item points to the next element in the direction Front ---------> Rear \n",
    "        self.previous_item = previous_item        # each item points to the next element in the direction Rear  ---------> Front "
   ]
  },
  {
   "cell_type": "code",
   "execution_count": 55,
   "id": "6b9d9afd-9bde-4178-87bc-b623ca68b6d4",
   "metadata": {},
   "outputs": [],
   "source": [
    "class deque(): \n",
    "\n",
    "    \n",
    "    def __init__(self , data = None):\n",
    "        '''\n",
    "        this constructor initializes the Deque\n",
    "        '''\n",
    "        self.front = item(data) if data is not None else None\n",
    "        self.rear = self.front\n",
    "        \n",
    "        self.size = 0 if data is None else 1\n",
    "\n",
    "    \n",
    "    def enqueue_front(self , data):\n",
    "        '''\n",
    "        The operation of adding an element to the front of the Deque\n",
    "        '''\n",
    "        # create a new item that points next to the current front, and prev to the NULL node\n",
    "        new_item = item(data , self.front , None)\n",
    "\n",
    "        if not(self.isEmpty()):\n",
    "            # let the current front points prev to the new item if the deque is not empty\n",
    "            self.front.previous_item = new_item\n",
    "        else:\n",
    "            # if the deque is empty, define the new item as the the new rear\n",
    "            self.rear = new_item\n",
    "\n",
    "        # whether the deque is empty or not let the new item be the new front of the deque\n",
    "        self.front = new_item\n",
    "\n",
    "        self.size = self.size + 1\n",
    "\n",
    "    \n",
    "    def enqueue_rear(self , data):\n",
    "        '''\n",
    "        The operation of adding an element to the rear of the Deque\n",
    "        '''\n",
    "        # create an new item that points next to NULL and prev to the current rear\n",
    "        new_item = item(data , None , self.rear)\n",
    "        \n",
    "        if not(self.isEmpty()):\n",
    "            # let the current rear if points next to the new item if the deque is not empty\n",
    "            self.rear.next_item = new_item\n",
    "        else:\n",
    "            # if the deque is empty, define the new item as the the new front\n",
    "            self.front = new_item\n",
    "            \n",
    "        # whether the deque is empty or not let the new item be the new rear of the deque\n",
    "        self.rear = new_item\n",
    "\n",
    "        self.size = self.size + 1\n",
    "\n",
    "    \n",
    "    def dequeue_front(self):\n",
    "        '''\n",
    "        The operation of removing and returning the data from the front of the deque\n",
    "        '''\n",
    "        if not(self.isEmpty()):\n",
    "            # data to be returned by the method and removed from the deque\n",
    "            removed_data = self.front.data\n",
    "            \n",
    "            # get the second item in the deque list\n",
    "            second_item = self.front.next_item\n",
    "\n",
    "            # delete the current front\n",
    "            del(self.front)\n",
    "            \n",
    "            # let the second item be the new front\n",
    "            self.front = second_item\n",
    "            \n",
    "            # if only one item existing in the deque, let the rear be NULL\n",
    "            if self.size == 1:\n",
    "                self.rear = None\n",
    "                \n",
    "            # decrease the size of the deque\n",
    "            self.size = self.size - 1\n",
    "            \n",
    "            return removed_data            \n",
    "\n",
    "\n",
    "    def dequeue_rear(self):\n",
    "        '''\n",
    "        The operation of removing and returning the data from the rear of the deque\n",
    "        '''\n",
    "        if not(self.isEmpty()):\n",
    "            # data to be returned by the method and removed from the deque\n",
    "            removed_data = self.rear.data\n",
    "            \n",
    "            # get the penultimate item (the one previous to the rear) in the deque list\n",
    "            penultimate_item = self.rear.previous_item\n",
    "\n",
    "            # delete the current rear\n",
    "            del(self.rear)\n",
    "            \n",
    "            # let the penultimate item be the new rear\n",
    "            self.rear = penultimate_item\n",
    "            \n",
    "            # if only one item existing in the deque, let the front be NULL\n",
    "            if self.size == 1:\n",
    "                self.front = None\n",
    "                \n",
    "            # decrease the size of the deque\n",
    "            self.size = self.size - 1\n",
    "            \n",
    "            return removed_data            \n",
    "            \n",
    "    \n",
    "    def peek_front(self):\n",
    "        '''\n",
    "        The operation of viewing the data from the front of the deque\n",
    "        '''\n",
    "        if not self.isEmpty():\n",
    "            return self.front.data\n",
    "\n",
    "\n",
    "    def peek_rear(self):\n",
    "        '''\n",
    "        The operation of viewing the data from the rear of the deque\n",
    "        '''\n",
    "        if not self.isEmpty():\n",
    "            return self.rear.data\n",
    "\n",
    "    \n",
    "    def __len__(self):\n",
    "        '''\n",
    "        The operation returning the size of the deque\n",
    "        '''        \n",
    "        return self.size  \n",
    "\n",
    "    \n",
    "    def isEmpty(self):\n",
    "        '''\n",
    "        The operation of verifying if the deque is empty or NOT\n",
    "        '''        \n",
    "        return not(self.size)\n",
    "\n",
    "    \n",
    "    def to_python_list(self):\n",
    "        '''\n",
    "        The operation of returning the data and adresses and pointers of the deque in a python list (for easy viewing and debuging)\n",
    "        '''\n",
    "        item_data_python_list = []\n",
    "        current_item = self.front\n",
    "        if self.size:\n",
    "            item_data_python_list.append(current_item.data)\n",
    "            while current_item.next_item is not None:\n",
    "                current_item = current_item.next_item\n",
    "                if current_item.data is not None:\n",
    "                    item_data_python_list.append(current_item.data)\n",
    "        return item_data_python_list"
   ]
  },
  {
   "cell_type": "markdown",
   "id": "db50c6da-3007-407d-a070-60511d9892e8",
   "metadata": {},
   "source": [
    "### Time Complexity Analysis of the Deque Implementation\n",
    "\n",
    "Below is the time complexity analysis for each operation in the **Deque** class based on the linkedlist implementation:\n",
    "\n",
    "| Operation              | Time Complexity |\n",
    "|------------------------|-----------------|\n",
    "| Enqueue Front          | O(1)           |\n",
    "| Enqueue Rear           | O(1)           |\n",
    "| Dequeue Front          | O(1)           |\n",
    "| Dequeue Rear           | O(1)           |\n",
    "| Peek Front             | O(1)           |\n",
    "| Peek Rear              | O(1)           |\n",
    "| IsEmpty                | O(1)           |\n",
    "| Get Length (`__len__`) | O(1)           |\n",
    "| Convert to Python List (`to_python_list`) | O(n) |\n"
   ]
  },
  {
   "cell_type": "code",
   "execution_count": 29,
   "id": "f72956be-a870-4866-8718-c7cc12ed8ed3",
   "metadata": {},
   "outputs": [
    {
     "name": "stdout",
     "output_type": "stream",
     "text": [
      "Before:    len(my_deque): 0, my_deque.front: None  , my_deque.rear: None\n",
      "After:    len(my_deque): 1, my_deque.front.data: 6  , my_deque.rear.data: 6, my_deque.front: <__main__.item object at 0x0000023AF1135430>  , my_deque.rear: <__main__.item object at 0x0000023AF1135430>\n"
     ]
    },
    {
     "data": {
      "text/plain": [
       "[6]"
      ]
     },
     "execution_count": 29,
     "metadata": {},
     "output_type": "execute_result"
    }
   ],
   "source": [
    "my_deque = deque()\n",
    "print(f\"Before:    len(my_deque): {len(my_deque)}, my_deque.front: {my_deque.front}  , my_deque.rear: {my_deque.rear}\")\n",
    "my_deque.enqueue_front(6)\n",
    "print(f\"After:    len(my_deque): {len(my_deque)}, my_deque.front.data: {my_deque.front.data}  , my_deque.rear.data: {my_deque.rear.data}, my_deque.front: {my_deque.front}  , my_deque.rear: {my_deque.rear}\")\n",
    "my_deque.to_python_list()"
   ]
  },
  {
   "cell_type": "code",
   "execution_count": 30,
   "id": "06963144-b206-4b3a-a7c8-c821e1b5bc3d",
   "metadata": {},
   "outputs": [
    {
     "name": "stdout",
     "output_type": "stream",
     "text": [
      "After:    len(my_deque): 2, my_deque.front.data: 10  , my_deque.rear.data: 6, my_deque.front: <__main__.item object at 0x0000023AF111BF70>  , my_deque.rear: <__main__.item object at 0x0000023AF1135430>\n"
     ]
    },
    {
     "data": {
      "text/plain": [
       "[10, 6]"
      ]
     },
     "execution_count": 30,
     "metadata": {},
     "output_type": "execute_result"
    }
   ],
   "source": [
    "my_deque.enqueue_front(10)\n",
    "print(f\"After:    len(my_deque): {len(my_deque)}, my_deque.front.data: {my_deque.front.data}  , my_deque.rear.data: {my_deque.rear.data}, my_deque.front: {my_deque.front}  , my_deque.rear: {my_deque.rear}\")\n",
    "my_deque.to_python_list()"
   ]
  },
  {
   "cell_type": "code",
   "execution_count": 33,
   "id": "3bfff23f-fb54-45d2-b2f9-32ab081a94c7",
   "metadata": {},
   "outputs": [
    {
     "name": "stdout",
     "output_type": "stream",
     "text": [
      "Before:    len(my_deque): 0, my_deque.front: None  , my_deque.rear: None\n",
      "After:    len(my_deque): 7, my_deque.front.data: 70  , my_deque.rear.data: 60, my_deque.front: <__main__.item object at 0x0000023AF11827C0>  , my_deque.rear: <__main__.item object at 0x0000023AF1182100>\n"
     ]
    },
    {
     "data": {
      "text/plain": [
       "[70, 40, 30, 20, 10, 50, 60]"
      ]
     },
     "execution_count": 33,
     "metadata": {},
     "output_type": "execute_result"
    }
   ],
   "source": [
    "my_deque = deque()\n",
    "print(f\"Before:    len(my_deque): {len(my_deque)}, my_deque.front: {my_deque.front}  , my_deque.rear: {my_deque.rear}\")\n",
    "my_deque.enqueue_rear(10)\n",
    "my_deque.enqueue_front(20)\n",
    "my_deque.enqueue_front(30)\n",
    "my_deque.enqueue_front(40)\n",
    "my_deque.enqueue_rear(50)\n",
    "my_deque.enqueue_rear(60)\n",
    "my_deque.enqueue_front(70)\n",
    "\n",
    "print(f\"After:    len(my_deque): {len(my_deque)}, my_deque.front.data: {my_deque.front.data}  , my_deque.rear.data: {my_deque.rear.data}, my_deque.front: {my_deque.front}  , my_deque.rear: {my_deque.rear}\")\n",
    "my_deque.to_python_list()"
   ]
  },
  {
   "cell_type": "code",
   "execution_count": 35,
   "id": "cce9a548-f74a-4614-b199-f4976fab28f2",
   "metadata": {},
   "outputs": [
    {
     "name": "stdout",
     "output_type": "stream",
     "text": [
      "Before:    len(my_deque): 0, my_deque.front: None  , my_deque.rear: None\n",
      "After:    len(my_deque): 1, my_deque.front.data: 6  , my_deque.rear.data: 6, my_deque.front: <__main__.item object at 0x0000023AF0EE2490>  , my_deque.rear: <__main__.item object at 0x0000023AF0EE2490>\n"
     ]
    },
    {
     "data": {
      "text/plain": [
       "[6]"
      ]
     },
     "execution_count": 35,
     "metadata": {},
     "output_type": "execute_result"
    }
   ],
   "source": [
    "my_deque = deque()\n",
    "print(f\"Before:    len(my_deque): {len(my_deque)}, my_deque.front: {my_deque.front}  , my_deque.rear: {my_deque.rear}\")\n",
    "my_deque.enqueue_rear(6)\n",
    "print(f\"After:    len(my_deque): {len(my_deque)}, my_deque.front.data: {my_deque.front.data}  , my_deque.rear.data: {my_deque.rear.data}, my_deque.front: {my_deque.front}  , my_deque.rear: {my_deque.rear}\")\n",
    "my_deque.to_python_list()"
   ]
  },
  {
   "cell_type": "code",
   "execution_count": 50,
   "id": "9b3197e8-c578-4c85-b258-09e103a0492a",
   "metadata": {},
   "outputs": [
    {
     "name": "stdout",
     "output_type": "stream",
     "text": [
      "Before:    len(my_deque): 1, my_deque.front: <__main__.item object at 0x0000023AF0F63CA0>  , my_deque.rear: <__main__.item object at 0x0000023AF0F63CA0>\n",
      "Before:    len(my_deque): 0, my_deque.front: None  , my_deque.rear: None\n"
     ]
    },
    {
     "data": {
      "text/plain": [
       "[]"
      ]
     },
     "execution_count": 50,
     "metadata": {},
     "output_type": "execute_result"
    }
   ],
   "source": [
    "my_deque = deque()\n",
    "my_deque.enqueue_front(5)\n",
    "print(f\"Before:    len(my_deque): {len(my_deque)}, my_deque.front: {my_deque.front}  , my_deque.rear: {my_deque.rear}\")\n",
    "my_deque.dequeue_front()\n",
    "print(f\"Before:    len(my_deque): {len(my_deque)}, my_deque.front: {my_deque.front}  , my_deque.rear: {my_deque.rear}\")\n",
    "my_deque.to_python_list()\n"
   ]
  },
  {
   "cell_type": "code",
   "execution_count": 53,
   "id": "f5ee8c1c-32f7-4c9e-bb07-e11f7a0d21b7",
   "metadata": {},
   "outputs": [
    {
     "name": "stdout",
     "output_type": "stream",
     "text": [
      "Before:    len(my_deque): 1, my_deque.front: <__main__.item object at 0x0000023AF116F250>  , my_deque.rear: <__main__.item object at 0x0000023AF116F250>\n",
      "Before:    len(my_deque): 0, my_deque.front: None  , my_deque.rear: None\n"
     ]
    },
    {
     "data": {
      "text/plain": [
       "[]"
      ]
     },
     "execution_count": 53,
     "metadata": {},
     "output_type": "execute_result"
    }
   ],
   "source": [
    "my_deque = deque()\n",
    "my_deque.enqueue_front(5)\n",
    "print(f\"Before:    len(my_deque): {len(my_deque)}, my_deque.front: {my_deque.front}  , my_deque.rear: {my_deque.rear}\")\n",
    "my_deque.dequeue_rear()\n",
    "print(f\"Before:    len(my_deque): {len(my_deque)}, my_deque.front: {my_deque.front}  , my_deque.rear: {my_deque.rear}\")\n",
    "my_deque.to_python_list()\n"
   ]
  },
  {
   "cell_type": "markdown",
   "id": "ab9ffbbf-bddd-430a-b78a-8f8cd776c80f",
   "metadata": {},
   "source": [
    "## Array-Based Deque"
   ]
  },
  {
   "cell_type": "code",
   "execution_count": null,
   "id": "e52d6f15-e3b1-4959-af2b-f42502aea135",
   "metadata": {},
   "outputs": [],
   "source": [
    "class deque(): \n",
    "\n",
    "    \n",
    "    def __init__(self , data = None):\n",
    "        '''\n",
    "        this constructor initializes the deque\n",
    "        '''\n",
    "        self.deque = []\n",
    "\n",
    "    \n",
    "    def enqueue_front(self , data):\n",
    "        '''\n",
    "        The operation of adding an element to the front of the deque\n",
    "        '''\n",
    "        self.deque.insert(0, data)\n",
    "        \n",
    "    \n",
    "    def enqueue_rear(self , data):\n",
    "        '''\n",
    "        The operation of adding an element to the rear of the Deque\n",
    "        '''\n",
    "        self.deque.append(data)\n",
    "\n",
    "    \n",
    "    def dequeue_front(self):\n",
    "        '''\n",
    "        The operation of removing and returning the data from the front of the deque\n",
    "        '''\n",
    "        if not(self.isEmpty()):\n",
    "            return self.deque.pop(0)            \n",
    "\n",
    "\n",
    "    def dequeue_rear(self):\n",
    "        '''\n",
    "        The operation of removing and returning the data from the rear of the deque\n",
    "        '''\n",
    "        if not(self.isEmpty()):\n",
    "            return self.deque.pop()            \n",
    "            \n",
    "    \n",
    "    def peek_front(self):\n",
    "        '''\n",
    "        The operation of viewing the data from the front of the deque\n",
    "        '''\n",
    "        if not(self.isEmpty()):\n",
    "            return self.deque[0]\n",
    "\n",
    "\n",
    "    def peek_rear(self):\n",
    "        '''\n",
    "        The operation of viewing the data from the rear of the deque\n",
    "        '''\n",
    "        if not(self.isEmpty()):\n",
    "            return self.deque[-1]\n",
    "\n",
    "    \n",
    "    def isEmpty(self):\n",
    "        '''\n",
    "        The operation of verifying if the deque is empty or NOT\n",
    "        '''        \n",
    "        return not(len(self.deque))        "
   ]
  },
  {
   "cell_type": "markdown",
   "id": "dc103391-206d-42ab-9e3f-13d55aabd609",
   "metadata": {},
   "source": [
    "| Operation              | Time Complexity |\n",
    "|------------------------|-----------------|\n",
    "| Enqueue Front          | O(1)           |\n",
    "| Enqueue Rear           | O(1)           |\n",
    "| Dequeue Front          | O(1)           |\n",
    "| Dequeue Rear           | O(1)           |\n",
    "| Peek Front             | O(1)           |\n",
    "| Peek Rear              | O(1)           |\n",
    "| IsEmpty                | O(1)           |\n",
    "| Get Length (`__len__`) | O(1)           |"
   ]
  },
  {
   "cell_type": "code",
   "execution_count": null,
   "id": "e697327a-f178-4d9f-a3bd-4aadfed4fca7",
   "metadata": {},
   "outputs": [],
   "source": []
  }
 ],
 "metadata": {
  "kernelspec": {
   "display_name": "Python 3 (ipykernel)",
   "language": "python",
   "name": "python3"
  },
  "language_info": {
   "codemirror_mode": {
    "name": "ipython",
    "version": 3
   },
   "file_extension": ".py",
   "mimetype": "text/x-python",
   "name": "python",
   "nbconvert_exporter": "python",
   "pygments_lexer": "ipython3",
   "version": "3.11.7"
  }
 },
 "nbformat": 4,
 "nbformat_minor": 5
}
