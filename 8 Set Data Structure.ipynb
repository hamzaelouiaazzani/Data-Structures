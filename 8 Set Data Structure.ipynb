{
 "cells": [
  {
   "cell_type": "markdown",
   "id": "f640a65c-c044-46f4-a8f1-c51f155ffd7d",
   "metadata": {},
   "source": [
    "# Overview of Set Implementation\n",
    "\n",
    "This is a basic implementation of the \"Set\" data structure, mimicking Python's built-in `set`. The implementation relies on **hash tables** to maintain the uniqueness of elements, leveraging the inherent property of hash tables to store keys without duplication. \n",
    "\n",
    "Each element in the set is treated as a key in the underlying hash table, ensuring that duplicate entries are automatically handled. The hash function is used to determine the index of the element within the hash table, and collisions are resolved using linked lists for efficient storage and retrieval.\n",
    "\n",
    "This approach ensures constant time complexity for most operations, such as adding, removing, and checking membership of elements, similar to the behavior of Python's native `set`.\n"
   ]
  },
  {
   "cell_type": "code",
   "execution_count": 45,
   "id": "9ef194d2-0f24-4ee6-9160-f7c73ea802ed",
   "metadata": {},
   "outputs": [],
   "source": [
    "from data_structures.Hash_Table import hash_table\n",
    "\n",
    "class Set(hash_table):\n",
    "    \n",
    "    def __init__(self, size=8):\n",
    "        super().__init__(size)\n",
    "\n",
    "    def add(self, element):\n",
    "        \"\"\"Add an element to the set.\"\"\"\n",
    "        if self.load_factor() > 0.75:  # Resize if load factor exceeds threshold\n",
    "            self.resize()\n",
    "        self.insert(element, None)  # Use None as the value\n",
    "\n",
    "\n",
    "    def remove(self, element):\n",
    "        \"\"\"Remove an element from the set.\"\"\"\n",
    "        self.delete(element)\n",
    "\n",
    "    def search(self, element):\n",
    "        \"\"\"\n",
    "        Search for an element in the set.\n",
    "\n",
    "        Args:\n",
    "            element (any): The element to search for.\n",
    "\n",
    "        Returns:\n",
    "            any: The element if found.\n",
    "        \"\"\"\n",
    "        bucket_index = self._hash(element)\n",
    "        if self.array_buckets[bucket_index] is None:\n",
    "            print(\"This key doesn't have a corresponding bucket yet. Try an existing key!\")\n",
    "            return None\n",
    "        key_node = self.array_buckets[bucket_index].search_key_in_bucket(element)\n",
    "        if key_node is not None:\n",
    "            return key_node.data[0]\n",
    "        else:\n",
    "            print(\"This key is not found in the buckets. Try an existing key!\")\n",
    "            return None\n",
    "    \n",
    "    def __contains__(self, element):\n",
    "        \"\"\"Check if an element exists in the set.\"\"\"\n",
    "        return self.search(element) is not None\n",
    "\n",
    "    def union(self, other_set):\n",
    "        \"\"\"Return a new set with elements from this set and another.\"\"\"\n",
    "        result = Set()\n",
    "        for item in self.get_keys():\n",
    "            result.add(item)\n",
    "        for item in other_set.get_keys():\n",
    "            result.add(item)\n",
    "        return result\n",
    "\n",
    "    def intersection(self, other_set):\n",
    "        \"\"\"Return a new set with elements common to both sets.\"\"\"\n",
    "        result = Set()\n",
    "        for item in self.get_keys():\n",
    "            if item in other_set:\n",
    "                result.add(item)\n",
    "        return result\n",
    "\n",
    "    def difference(self, other_set):\n",
    "        \"\"\"Return a new set with elements in this set but not in the other.\"\"\"\n",
    "        result = Set()\n",
    "        for item in self.get_keys():\n",
    "            if item not in other_set:\n",
    "                result.add(item)\n",
    "        return result\n",
    "\n",
    "    def __iter__(self):\n",
    "        \"\"\"Iterate over all elements of the set.\"\"\"\n",
    "        for bucket in self.array_buckets:\n",
    "            if bucket is not None:\n",
    "                current_node = bucket.head\n",
    "                while current_node is not None:\n",
    "                    yield current_node.data[0]\n",
    "                    current_node = current_node.pointer_to_next_node"
   ]
  },
  {
   "cell_type": "markdown",
   "id": "b19931b7-d5c3-4aeb-baba-f9f9f6aad01c",
   "metadata": {},
   "source": [
    "## Big O Complexity of Operations in Set Implementation\n",
    "\n",
    "Below is the time complexity analysis for each implemented operation in the **Set**, based on the provided implementation:\n",
    "\n",
    "---\n",
    "\n",
    "### Insertions:\n",
    "1. **Add (element)**:\n",
    "   - **Time Complexity**:\n",
    "     - **Average Case**: **O(1)** (due to direct index access and collision handling in hash table buckets).\n",
    "     - **Worst Case**: **O(n)** (if all elements hash to the same bucket, requiring traversal of the bucket).\n",
    "   - **Reason**: Adding an element involves hashing to find the bucket and inserting the key into the hash table.\n",
    "\n",
    "---\n",
    "\n",
    "### Deletions:\n",
    "2. **Remove (element)**:\n",
    "   - **Time Complexity**:\n",
    "     - **Average Case**: **O(1)**.\n",
    "     - **Worst Case**: **O(n)**.\n",
    "   - **Reason**: Removal involves hashing to find the bucket and deleting the key from the linked list in the bucket.\n",
    "\n",
    "---\n",
    "\n",
    "### Searching:\n",
    "3. **Search (element)**:\n",
    "   - **Time Complexity**:\n",
    "     - **Average Case**: **O(1)**.\n",
    "     - **Worst Case**: **O(n)**.\n",
    "   - **Reason**: Searching involves hashing to find the bucket and locating the key in the linked list within the bucket.\n",
    "\n",
    "4. **Check Membership (`__contains__`)**:\n",
    "   - **Time Complexity**: Same as **Search**.\n",
    "\n",
    "---\n",
    "\n",
    "### Set Operations:\n",
    "5. **Union**:\n",
    "   - **Time Complexity**: **O(n + m)** (where `n` is the size of this set and `m` is the size of the other set).\n",
    "   - **Reason**: Iterates over both sets to add all elements to the new set.\n",
    "\n",
    "6. **Intersection**:\n",
    "   - **Time Complexity**: **O(n)**.\n",
    "   - **Reason**: Iterates over one set and checks membership in the other set.\n",
    "\n",
    "7. **Difference**:\n",
    "   - **Time Complexity**: **O(n)**.\n",
    "   - **Reason**: Iterates over one set and checks membership in the other set to exclude common elements.\n",
    "\n",
    "---\n",
    "\n",
    "### Utility:\n",
    "8. **Iteration (`__iter__`)**:\n",
    "   - **Time Complexity**: **O(n)**.\n",
    "   - **Reason**: Iterates over all buckets and linked lists to yield each element.\n",
    "\n",
    "---\n",
    "\n",
    "### Summary:\n",
    "\n",
    "| Operation                     | Time Complexity (Average) | Time Complexity (Worst) |\n",
    "|-------------------------------|---------------------------|--------------------------|\n",
    "| Add (element)                 | O(1)                     | O(n)                    |\n",
    "| Remove (element)              | O(1)                     | O(n)                    |\n",
    "| Search (element)              | O(1)                     | O(n)                    |\n",
    "| Check Membership (`__contains__`) | O(1)                  | O(n)                    |\n",
    "| Union                         | O(n + m)                 | O(n + m)                |\n",
    "| Intersection                  | O(n)                     | O(n)                    |\n",
    "| Difference                    | O(n)                     | O(n)                    |\n",
    "| Iteration (`__iter__`)        | O(n)                     | O(n)                    |\n",
    "\n",
    "### Notes:\n",
    "- **n**: Total number of elements in this set.\n",
    "- **m**: Total number of elements in the other set (for set operations).\n",
    "- The performance depends on the hash function, the load factor, and the distribution of elements across buckets.\n"
   ]
  },
  {
   "cell_type": "markdown",
   "id": "5dc9cf03-01eb-450e-8f0a-d13e6e54468e",
   "metadata": {},
   "source": [
    "## Testing operations:"
   ]
  },
  {
   "cell_type": "markdown",
   "id": "e9e23349-75ac-49c5-b697-19b4a411740a",
   "metadata": {},
   "source": [
    "Notice below how the set doesn't contain double copy of elements (6) "
   ]
  },
  {
   "cell_type": "code",
   "execution_count": 46,
   "id": "2cde998e-9511-4f21-8186-a1e304ef3775",
   "metadata": {},
   "outputs": [
    {
     "name": "stdout",
     "output_type": "stream",
     "text": [
      "a\n",
      "12\n",
      "6\n",
      "hi\n"
     ]
    }
   ],
   "source": [
    "my_set = Set()\n",
    "my_set.add(6)\n",
    "my_set.add(\"hi\")\n",
    "my_set.add(12)\n",
    "my_set.add(6)\n",
    "my_set.add(\"a\")\n",
    "\n",
    "for element in my_set:\n",
    "    print(element)"
   ]
  },
  {
   "cell_type": "code",
   "execution_count": 47,
   "id": "008946d5-ebfd-44f8-a0d2-c63a96fdb0d9",
   "metadata": {},
   "outputs": [
    {
     "name": "stdout",
     "output_type": "stream",
     "text": [
      "a\n",
      "12\n",
      "hi\n"
     ]
    }
   ],
   "source": [
    "my_set = Set()\n",
    "my_set.add(6)\n",
    "my_set.add(\"hi\")\n",
    "my_set.add(12)\n",
    "my_set.add(6)\n",
    "my_set.add(\"a\")\n",
    "my_set.remove(6)\n",
    "\n",
    "for element in my_set:\n",
    "    print(element)"
   ]
  },
  {
   "cell_type": "code",
   "execution_count": 48,
   "id": "3ecc2581-4558-4184-a7fc-d2447b9c2bd8",
   "metadata": {},
   "outputs": [
    {
     "name": "stdout",
     "output_type": "stream",
     "text": [
      "Resizing hash table...\n",
      "100\n",
      "6\n",
      "hi\n",
      "b\n",
      "8\n",
      "a\n",
      "12\n"
     ]
    }
   ],
   "source": [
    "my_set1 = Set()\n",
    "my_set1.add(6)\n",
    "my_set1.add(\"hi\")\n",
    "my_set1.add(12)\n",
    "my_set1.add(6)\n",
    "my_set1.add(\"a\")\n",
    "\n",
    "my_set2 = Set()\n",
    "my_set2.add(8)\n",
    "my_set2.add(6)\n",
    "my_set2.add(\"hi\")\n",
    "my_set2.add(100)\n",
    "my_set2.add(12)\n",
    "my_set2.add(\"b\")\n",
    "\n",
    "union_set = my_set1.union(my_set2)\n",
    "for element in union_set:\n",
    "    print(element)"
   ]
  },
  {
   "cell_type": "code",
   "execution_count": 49,
   "id": "38ad7899-4953-40dd-9437-135ac6b1ccc3",
   "metadata": {},
   "outputs": [
    {
     "name": "stdout",
     "output_type": "stream",
     "text": [
      "This key doesn't have a corresponding bucket yet. Try an existing key!\n",
      "12\n",
      "6\n",
      "hi\n"
     ]
    }
   ],
   "source": [
    "intersection_set = my_set1.intersection(my_set2)\n",
    "for element in intersection_set:\n",
    "    print(element)"
   ]
  },
  {
   "cell_type": "code",
   "execution_count": 50,
   "id": "a84e28dd-126e-48a0-8955-85c95da029f8",
   "metadata": {},
   "outputs": [
    {
     "name": "stdout",
     "output_type": "stream",
     "text": [
      "This key doesn't have a corresponding bucket yet. Try an existing key!\n",
      "a\n"
     ]
    }
   ],
   "source": [
    "difference_set = my_set1.difference(my_set2)\n",
    "for element in difference_set:\n",
    "    print(element)"
   ]
  },
  {
   "cell_type": "code",
   "execution_count": 51,
   "id": "fd6d1587-db88-4627-84fb-7db3f2d0e97c",
   "metadata": {},
   "outputs": [
    {
     "name": "stdout",
     "output_type": "stream",
     "text": [
      "This key doesn't have a corresponding bucket yet. Try an existing key!\n",
      "This key is not found in the buckets. Try an existing key!\n",
      "This key is not found in the buckets. Try an existing key!\n",
      "8\n",
      "100\n",
      "b\n"
     ]
    }
   ],
   "source": [
    "difference_set = my_set2.difference(my_set1)\n",
    "for element in difference_set:\n",
    "    print(element)"
   ]
  }
 ],
 "metadata": {
  "kernelspec": {
   "display_name": "Python 3 (ipykernel)",
   "language": "python",
   "name": "python3"
  },
  "language_info": {
   "codemirror_mode": {
    "name": "ipython",
    "version": 3
   },
   "file_extension": ".py",
   "mimetype": "text/x-python",
   "name": "python",
   "nbconvert_exporter": "python",
   "pygments_lexer": "ipython3",
   "version": "3.11.7"
  }
 },
 "nbformat": 4,
 "nbformat_minor": 5
}
