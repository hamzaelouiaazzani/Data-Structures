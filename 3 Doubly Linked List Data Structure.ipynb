{
 "cells": [
  {
   "cell_type": "markdown",
   "id": "621be720-c96f-43fc-8375-12081d8d3c9f",
   "metadata": {},
   "source": [
    "# Doubly Linked lists implimentation:"
   ]
  },
  {
   "cell_type": "markdown",
   "id": "64d66f06-9d5b-4301-bf38-401fec4bbae7",
   "metadata": {},
   "source": [
    "## Doubly Linked List Overview"
   ]
  },
  {
   "cell_type": "markdown",
   "id": "1ad8afa3-bd67-44f1-a6bd-b3b427395113",
   "metadata": {},
   "source": [
    "A doubly linked list is a data structure where each node contains:\n",
    "1. **Data**: The value or information stored in the node.\n",
    "2. **Pointer to Next Node**: A reference to the next node in the sequence.\n",
    "3. **Pointer to Previous Node**: A reference to the previous node in the sequence.\n",
    "\n",
    "This implementation supports both **circular** and **non-circular** modes:\n",
    "- **Circular Mode**: The last node points to the first node, and the first node points back to the last node, forming a circular structure.\n",
    "- **Non-Circular Mode**: The first node points to `None` on its `prev` pointer, and the last node points to `None` on its `next` pointer.\n",
    "\n",
    "### Key Operations:\n",
    "1. **Insertions**:\n",
    "   - **Insert at the beginning**: Adds a new node at the start of the list, updating the head and maintaining proper references.\n",
    "   - **Insert at the end**: Adds a new node at the end, updating the tail and maintaining proper references.\n",
    "   - **Insert before a target node**: Inserts a new node just before a node containing specific data.\n",
    "   - **Insert after a target node**: Inserts a new node immediately after a node containing specific data.\n",
    "\n",
    "2. **Deletions**:\n",
    "   - **Delete the first node**: Removes the head node and updates the head and tail pointers as needed.\n",
    "   - **Delete the last node**: Removes the tail node and updates the tail pointer.\n",
    "   - **Delete a node with specific data**: Finds and removes the node containing the target data.\n",
    "\n",
    "3. **Editing**:\n",
    "   - **Edit a node's data**: Updates the data of a node containing specific target data.\n",
    "\n",
    "4. **Swapping**:\n",
    "   - **Swap two nodes**: Swaps the data of two nodes containing specific target data.\n",
    "\n",
    "5. **Searching**:\n",
    "   - **Find a node by data**: Searches for and returns a node containing specific data.\n",
    "\n",
    "6. **Shifting** (Applicable only in circular mode):\n",
    "   - **Shift right**: Moves the tail to the head and updates the head to the previous tail.\n",
    "   - **Shift left**: Moves the head to the next node and updates the tail accordingly.\n",
    "\n",
    "7. **Utility**:\n",
    "   - **Convert to Python list**: Converts the doubly linked list into Python lists for node data, pointers to next nodes, and pointers to previous nodes.\n",
    "   - **Get list size**: Returns the size of the doubly linked list using `len()`.\n",
    "\n",
    "### Applications:\n",
    "- Efficient navigation in both directions through a sequence of elements.\n",
    "- Implementation of undo/redo functionality in applications.\n",
    "- Representation of complex data structures like trees or graphs.\n",
    "- Circular mode enables efficient circular buffers and real-time scheduling systems.\n"
   ]
  },
  {
   "cell_type": "code",
   "execution_count": 3,
   "id": "f92b870b-f0f4-4605-a069-97b3eb04dec2",
   "metadata": {},
   "outputs": [],
   "source": [
    "class Node:\n",
    "    \"\"\"\n",
    "    A class representing a single node in a doubly linked list.\n",
    "\n",
    "    Attributes:\n",
    "        data: The value or information stored in the node.\n",
    "        pointer_to_next_node: A reference to the next node in the sequence.\n",
    "        pointer_to_previous_node: A reference to the previous node in the sequence.\n",
    "    \"\"\"\n",
    "    def __init__(self, data, pointer_to_next_node=None, pointer_to_previous_node=None):\n",
    "        \"\"\"\n",
    "        Initialize a new node.\n",
    "\n",
    "        Args:\n",
    "            data: The value to be stored in the node.\n",
    "            pointer_to_next_node: A reference to the next node in the sequence (default is None).\n",
    "            pointer_to_previous_node: A reference to the previous node in the sequence (default is None).\n",
    "        \"\"\"\n",
    "        self.data = data\n",
    "        self.pointer_to_next_node = pointer_to_next_node\n",
    "        self.pointer_to_previous_node = pointer_to_previous_node"
   ]
  },
  {
   "cell_type": "markdown",
   "id": "bdaaa5a8-ec9d-41e8-890a-3e9e53980a1f",
   "metadata": {},
   "source": [
    "## Circular Process in Doubly Linked List\n",
    "\n",
    "This implementation of the doubly linked list offers the flexibility to operate in both **circular** and **non-circular** modes. When initialized as circular, the `tail` node points to the `head` node, and the `head` node points back to the `tail`, ensuring a continuous loop. This feature allows for efficient traversal and operations in a circular structure while retaining the advantages of a doubly linked list.\n"
   ]
  },
  {
   "cell_type": "markdown",
   "id": "1d031298-dd1e-44e2-8039-2fb8f39ab1e1",
   "metadata": {},
   "source": [
    "## Traversal Flexibility in Doubly Linked List\n",
    "\n",
    "This implementation of the doubly linked list allows for traversal starting from **any node** of your choice. It provides the flexibility to traverse in either direction:\n",
    "\n",
    "1. **Forward Pass**:\n",
    "   - Traverse the list from the selected node towards the tail (or back to the head in circular mode).\n",
    "   - Useful for sequential access in the natural order of the list.\n",
    "\n",
    "2. **Backward Pass**:\n",
    "   - Traverse the list from the selected node towards the head (or back to the tail in circular mode).\n",
    "   - Useful for reverse access or exploring the previous elements in the list.\n",
    "\n",
    "This bi-directional traversal capability is a key feature of doubly linked lists, enhancing their usability in various scenarios.\n"
   ]
  },
  {
   "cell_type": "code",
   "execution_count": 2,
   "id": "f3fad8b0-003f-4856-871b-f38e0f7cfe35",
   "metadata": {},
   "outputs": [],
   "source": [
    "class DoublyLinkedList:\n",
    "    \"\"\"\n",
    "    A class representing a doubly linked list, supporting both circular and non-circular implementations.\n",
    "\n",
    "    Attributes:\n",
    "        head: The first node in the doubly linked list.\n",
    "        tail: The last node in the doubly linked list.\n",
    "        size: The number of nodes in the list.\n",
    "        is_circular: A boolean indicating whether you want impliment the circular process or Not.\n",
    "    \"\"\"\n",
    "\n",
    "    def __init__(self, first_node_data=None, is_circular=False):\n",
    "        \"\"\"\n",
    "        Initialize the DoublyLinkedList with an optional first node.\n",
    "\n",
    "        Args:\n",
    "            first_node_data: The data for the first node in the list (default is None).\n",
    "            is_circular: Whether the list is circular or not (default is False).\n",
    "        \"\"\"\n",
    "        self.is_circular = is_circular\n",
    "        if self.is_circular:\n",
    "            if first_node_data is not None:\n",
    "                self.head = Node(first_node_data)\n",
    "                self.head.pointer_to_next_node = self.head\n",
    "                self.head.pointer_to_previous_node = self.head\n",
    "                self.tail = self.head\n",
    "                self.size = 1\n",
    "            else:\n",
    "                print(\"CircularDoublyLinkedList Must at least contain one node. Please initialize your CircularDoublyLinkedList with data.\")\n",
    "                print(\"You will get the following Error if first_node_data is None:\")\n",
    "                print(\"AttributeError: 'DoublyLinkedList' object has no attribute 'size'\")\n",
    "        else:\n",
    "            self.head = Node(first_node_data) if first_node_data is not None else None\n",
    "            self.tail = self.head\n",
    "            self.size = 0 if first_node_data is None else 1\n",
    "\n",
    "    def insert_at_beginning(self, data):\n",
    "        \"\"\"\n",
    "        Insert a new node at the beginning of the doubly linked list.\n",
    "\n",
    "        Args:\n",
    "            data: The data for the new node.\n",
    "        \"\"\"\n",
    "        if self.size:\n",
    "            # Create a new node that points next to the current head and prev to the node that the current head points prev to.\n",
    "            new_node = Node(data, self.head, self.head.pointer_to_previous_node)\n",
    "\n",
    "            # The current head must point prev to the new node\n",
    "            self.head.pointer_to_previous_node = new_node\n",
    "\n",
    "            # Define the new node as the new head of the DoublyLinkedList\n",
    "            self.head = new_node\n",
    "\n",
    "            # If the DoublyLinkedList is circular, let the current tail point to the new node\n",
    "            if self.is_circular:\n",
    "                self.tail.pointer_to_next_node = new_node\n",
    "\n",
    "            self.size += 1\n",
    "        else:\n",
    "            # Initialize the list with the new node if it was empty\n",
    "            self.head = Node(data)\n",
    "            self.tail = self.head\n",
    "            self.size = 1\n",
    "\n",
    "    def insert_at_end(self, data):\n",
    "        \"\"\"\n",
    "        Insert a new node at the end of the doubly linked list.\n",
    "\n",
    "        Args:\n",
    "            data: The data for the new node.\n",
    "        \"\"\"\n",
    "        if self.size:\n",
    "            # Create a new node that points next to the head (if circular) or None and prev to the current tail\n",
    "            new_node = Node(data, self.head if self.is_circular else None, self.tail)\n",
    "\n",
    "            # Let the current tail point next to the new node\n",
    "            self.tail.pointer_to_next_node = new_node\n",
    "\n",
    "            # If the list is circular, let the head point prev to the new node\n",
    "            if self.is_circular:\n",
    "                self.head.pointer_to_previous_node = new_node\n",
    "\n",
    "            # Update the tail to the new node\n",
    "            self.tail = new_node\n",
    "            self.size += 1\n",
    "        else:\n",
    "            # If the list is empty, insert at the beginning\n",
    "            self.insert_at_beginning(data)\n",
    "\n",
    "    def insert_data(self, data, target_data, direction=\"forward\", position=\"before\", start_node=None):\n",
    "        \"\"\"\n",
    "        Insert a new node before or after a target node containing specific data.\n",
    "\n",
    "        Args:\n",
    "            data: The data for the new node.\n",
    "            target_data: The data of the target node.\n",
    "            direction: The direction to search for the target node (\"forward\" or \"backward\").\n",
    "            position: Whether to insert \"before\" or \"after\" the target node.\n",
    "            start_node: The node to start the search from (default is None).\n",
    "        \"\"\"\n",
    "        if self.size > 1:\n",
    "            if position == \"before\" and self.head.data == target_data:\n",
    "                self.insert_at_beginning(data)\n",
    "            elif position == \"after\" and self.tail.data == target_data:\n",
    "                self.insert_at_end(data)\n",
    "            else:\n",
    "                target_node = self.get_node_by_target_data(target_data, direction, start_node)\n",
    "                if target_node is not None:\n",
    "                    if position == \"before\":\n",
    "                        new_node = Node(data, target_node, target_node.pointer_to_previous_node)\n",
    "                        target_node.pointer_to_previous_node.pointer_to_next_node = new_node\n",
    "                        target_node.pointer_to_previous_node = new_node\n",
    "                        self.size += 1\n",
    "                    elif position == \"after\":\n",
    "                        new_node = Node(data, target_node.pointer_to_next_node, target_node)\n",
    "                        target_node.pointer_to_next_node.pointer_to_previous_node = new_node\n",
    "                        target_node.pointer_to_next_node = new_node\n",
    "                        self.size += 1\n",
    "                else:\n",
    "                    print(f\"The data {target_data} doesn't exist in any of this DoublyLinkedList Nodes. Try some existing nodes please.\")\n",
    "        elif self.size == 1:\n",
    "            if self.head.data == target_data:\n",
    "                if position == \"before\":\n",
    "                    self.insert_at_beginning(data)\n",
    "                elif position == \"after\":\n",
    "                    self.insert_at_end(data)\n",
    "            else:\n",
    "                print(f\"The data {target_data} doesn't exist in the head of this LinkedList. Use insert_at_beginning or insert_at_end methods instead.\")\n",
    "        else:\n",
    "            print(\"This method functions only when your LinkedList is NOT empty!\")\n",
    "\n",
    "    def delete_first_node(self):\n",
    "        \"\"\"\n",
    "        Delete the first node of the doubly linked list.\n",
    "\n",
    "        Raises:\n",
    "            ValueError: If the list contains less than one node.\n",
    "        \"\"\"\n",
    "        if self.size > 1:\n",
    "            # Extract the address of the second node\n",
    "            second_node = self.head.pointer_to_next_node\n",
    "\n",
    "            # Let the second node point prev to the node to which the current head points prev\n",
    "            second_node.pointer_to_previous_node = self.head.pointer_to_previous_node\n",
    "\n",
    "            # Let the current tail point next to the second node (if circular) or None otherwise\n",
    "            self.tail.pointer_to_next_node = second_node if self.is_circular else None\n",
    "\n",
    "            # Delete the current head\n",
    "            del self.head\n",
    "\n",
    "            # Update the head to the second node\n",
    "            self.head = second_node\n",
    "\n",
    "            self.size -= 1\n",
    "        elif self.size == 1:\n",
    "            if self.is_circular:\n",
    "                print(\"Your CircularDoublyLinkedList must contain at least 2 nodes to perform the Deletion operation.\")\n",
    "            else:\n",
    "                self.head = None\n",
    "                self.tail = None\n",
    "                self.size = 0\n",
    "        else:\n",
    "            print(\"Your DoublyLinkedList must contain at least one node to perform the Deletion operation.\")\n",
    "\n",
    "    def delete_last_node(self):\n",
    "        \"\"\"\n",
    "        Delete the last node of the doubly linked list.\n",
    "\n",
    "        Raises:\n",
    "            ValueError: If the list contains less than one node.\n",
    "        \"\"\"\n",
    "        if self.size > 1:\n",
    "            # Extract the address of the penultimate node\n",
    "            penultimate_node = self.tail.pointer_to_previous_node\n",
    "\n",
    "            # Let the penultimate node point next to the node to which the current tail points next\n",
    "            penultimate_node.pointer_to_next_node = self.tail.pointer_to_next_node\n",
    "\n",
    "            # Let the current head point prev to the penultimate node (if circular) or None otherwise\n",
    "            self.head.pointer_to_previous_node = penultimate_node if self.is_circular else None\n",
    "\n",
    "            # Delete the current tail\n",
    "            del self.tail\n",
    "\n",
    "            # Update the tail to the penultimate node\n",
    "            self.tail = penultimate_node\n",
    "\n",
    "            self.size -= 1\n",
    "        elif self.size == 1:\n",
    "            if self.is_circular:\n",
    "                print(\"Your CircularDoublyLinkedList must contain at least 2 nodes to perform the Deletion operation.\")\n",
    "            else:\n",
    "                self.head = None\n",
    "                self.tail = None\n",
    "                self.size = 0\n",
    "        else:\n",
    "            print(\"Your DoublyLinkedList must contain at least one node to perform the Deletion operation.\")\n",
    "\n",
    "    def delete_target_data(self, target_data, direction=\"forward\", start_node=None):\n",
    "        \"\"\"\n",
    "        Delete the node containing the specified target data.\n",
    "\n",
    "        Args:\n",
    "            target_data: The data of the node to delete.\n",
    "            direction: The direction to search for the target node (\"forward\" or \"backward\").\n",
    "            start_node: The node to start the search from (default is None).\n",
    "\n",
    "        Raises:\n",
    "            ValueError: If the list contains less than one node or the target data does not exist.\n",
    "        \"\"\"\n",
    "        if self.size > 1:\n",
    "            if self.head.data == target_data:\n",
    "                self.delete_first_node()\n",
    "            elif self.tail.data == target_data:\n",
    "                self.delete_last_node()\n",
    "            else:\n",
    "                target_node = self.get_node_by_target_data(target_data, direction, start_node)\n",
    "                if target_node is not None:\n",
    "                    target_node.pointer_to_previous_node.pointer_to_next_node = target_node.pointer_to_next_node\n",
    "                    target_node.pointer_to_next_node.pointer_to_previous_node = target_node.pointer_to_previous_node\n",
    "                    del target_node\n",
    "                    self.size -= 1\n",
    "                else:\n",
    "                    print(f\"The data {target_data} doesn't exist in any of this DoublyLinkedList Nodes. Try some existing nodes please.\")\n",
    "        elif self.size == 1:\n",
    "            if self.is_circular:\n",
    "                print(\"Your CircularDoublyLinkedList must contain at least 2 nodes to perform the Deletion operation.\")\n",
    "            else:\n",
    "                if self.head.data == target_data:\n",
    "                    self.head = None\n",
    "                    self.tail = None\n",
    "                    self.size = 0\n",
    "                else:\n",
    "                    print(\"The data does not exist in the head of this LinkedList. Use delete_first_node instead.\")\n",
    "        else:\n",
    "            print(\"Your DoublyLinkedList must contain at least one node to perform the Deletion operation.\")\n",
    "\n",
    "    def edit_node_data(self, data, target_data, direction=\"forward\", start_node=None):\n",
    "        \"\"\"\n",
    "        Edit the data of the node containing the specified target data.\n",
    "\n",
    "        Args:\n",
    "            data: The new data for the node.\n",
    "            target_data: The data of the node to edit.\n",
    "            direction: The direction to search for the target node (\"forward\" or \"backward\").\n",
    "            start_node: The node to start the search from (default is None).\n",
    "\n",
    "        Raises:\n",
    "            ValueError: If the list contains less than one node or the target data does not exist.\n",
    "        \"\"\"\n",
    "        if self.size:\n",
    "            if self.head.data == target_data:\n",
    "                self.head.data = data\n",
    "            elif self.tail.data == target_data:\n",
    "                self.tail.data = data\n",
    "            else:\n",
    "                target_node = self.get_node_by_target_data(target_data, direction, start_node)\n",
    "                if target_node is not None:\n",
    "                    target_node.data = data\n",
    "                else:\n",
    "                    print(f\"The data {target_data} doesn't exist in any of this DoublyLinkedList Nodes. Try some existing nodes please.\")\n",
    "        else:\n",
    "            print(\"Your LinkedList must contain at least one node to perform the editing operation.\")\n",
    "\n",
    "    def get_node_by_target_data(self, target_data, direction=\"forward\", start_node=None):\n",
    "        \"\"\"\n",
    "        Find and return the node containing the specified target data.\n",
    "\n",
    "        Args:\n",
    "            target_data: The data of the node to find.\n",
    "            direction: The direction to search for the target node (\"forward\" or \"backward\").\n",
    "            start_node: The node to start the search from (default is None).\n",
    "\n",
    "        Returns:\n",
    "            Node: The node containing the target data.\n",
    "\n",
    "        Raises:\n",
    "            ValueError: If the list contains less than one node or the target data does not exist.\n",
    "        \"\"\"\n",
    "        if self.size:\n",
    "            if direction == \"backward\":\n",
    "                pointer_direction = \"pointer_to_previous_node\"\n",
    "                if not start_node:\n",
    "                    start_node = self.tail\n",
    "            else:\n",
    "                pointer_direction = \"pointer_to_next_node\"\n",
    "                if not start_node:\n",
    "                    start_node = self.head\n",
    "\n",
    "            current_node = start_node\n",
    "            end_of_list_condition = start_node if self.is_circular else None\n",
    "\n",
    "            while getattr(current_node, pointer_direction) is not end_of_list_condition and current_node.data != target_data:\n",
    "                current_node = getattr(current_node, pointer_direction)\n",
    "\n",
    "            if getattr(current_node, pointer_direction) is None and current_node.data != target_data:\n",
    "                if (start_node != self.head and direction == \"forward\") or (start_node != self.tail and direction == \"backward\"):\n",
    "                    current_node = self.head if direction == \"forward\" else self.tail\n",
    "                    while getattr(current_node, pointer_direction) is not start_node and current_node.data != target_data:\n",
    "                        current_node = getattr(current_node, pointer_direction)\n",
    "\n",
    "            if current_node.data == target_data:\n",
    "                return current_node\n",
    "            else:\n",
    "                print(f\"The data {target_data} doesn't exist in any of this DoublyLinkedList Nodes. Try some existing nodes please.\")\n",
    "        else:\n",
    "            print(\"Your LinkedList must contain at least one node to perform 'get node' operation.\")\n",
    "\n",
    "    def swapping_nodes(self, target_data1, target_data2, direction=\"forward\", start_node=None):\n",
    "        \"\"\"\n",
    "        Swap the data of two nodes containing the specified target data.\n",
    "\n",
    "        Args:\n",
    "            target_data1: The data of the first node to swap.\n",
    "            target_data2: The data of the second node to swap.\n",
    "            direction: The direction to search for the target nodes (\"forward\" or \"backward\").\n",
    "            start_node: The node to start the search from (default is None).\n",
    "\n",
    "        Raises:\n",
    "            ValueError: If the list contains less than two nodes or either of the target data does not exist.\n",
    "        \"\"\"\n",
    "        if self.size > 1:\n",
    "            if target_data1 == target_data2:\n",
    "                print(\"The two data are the same. Try swapping different nodes please!\")\n",
    "            else:\n",
    "                if direction == \"backward\":\n",
    "                    pointer_direction = \"pointer_to_previous_node\"\n",
    "                    if not start_node:\n",
    "                        start_node = self.tail\n",
    "                else:\n",
    "                    pointer_direction = \"pointer_to_next_node\"\n",
    "                    if not start_node:\n",
    "                        start_node = self.head\n",
    "\n",
    "                nodes_found = set()\n",
    "                current_node = start_node\n",
    "                end_of_list_condition = start_node if self.is_circular else None\n",
    "\n",
    "                while getattr(current_node, pointer_direction) is not end_of_list_condition and len(nodes_found) != 2:\n",
    "                    if current_node.data == target_data1:\n",
    "                        node1 = current_node\n",
    "                        nodes_found.add(target_data1)\n",
    "                    elif current_node.data == target_data2:\n",
    "                        node2 = current_node\n",
    "                        nodes_found.add(target_data2)\n",
    "                    current_node = getattr(current_node, pointer_direction)\n",
    "\n",
    "                if len(nodes_found) == 2:\n",
    "                    node1.data, node2.data = node2.data, node1.data\n",
    "                else:\n",
    "                    print(\"One or both of the target nodes were not found.\")\n",
    "        else:\n",
    "            print(\"Your LinkedList must contain at least two nodes to perform the swapping process.\")\n",
    "\n",
    "    def shift_right(self):\n",
    "        \"\"\"\n",
    "        Shift the doubly linked list to the right by one node (in case of use the circular process, when is_circular is set to True).\n",
    "        \"\"\"\n",
    "        self.head = self.tail\n",
    "        self.tail = self.tail.pointer_to_previous_node\n",
    "\n",
    "    def shift_left(self):\n",
    "        \"\"\"\n",
    "        Shift the doubly linked list to the left by one node (in case of use the circular process, when is_circular is set to True).\n",
    "        \"\"\"\n",
    "        self.tail = self.head\n",
    "        self.head = self.head.pointer_to_next_node\n",
    "\n",
    "    def __len__(self):\n",
    "        \"\"\"\n",
    "        Return the length of the doubly linked list.\n",
    "\n",
    "        Returns:\n",
    "            int: The number of nodes in the list.\n",
    "        \"\"\"\n",
    "        return self.size\n",
    "\n",
    "    def to_python_list(self):\n",
    "        \"\"\"\n",
    "        Convert the doubly linked list into Python lists for data and pointers.\n",
    "\n",
    "        Returns:\n",
    "            tuple: A tuple containing four lists:\n",
    "                - List of node data.\n",
    "                - List of nodes.\n",
    "                - List of pointers to the next nodes.\n",
    "                - List of pointers to the previous nodes.\n",
    "        \"\"\"\n",
    "        node_data_python_list, nodes_python_list, node_pointers_next_python_list, node_pointers_prev_python_list = [], [], [], []\n",
    "\n",
    "        if self.size:\n",
    "            current_node = self.head\n",
    "            node_data_python_list.append(current_node.data)\n",
    "            node_pointers_next_python_list.append(current_node.pointer_to_next_node)\n",
    "            node_pointers_prev_python_list.append(current_node.pointer_to_previous_node)\n",
    "            nodes_python_list.append(current_node)\n",
    "            \n",
    "            end_of_list_condition = self.head if self.is_circular else None\n",
    "            while(current_node.pointer_to_next_node) is not end_of_list_condition:\n",
    "                current_node = current_node.pointer_to_next_node\n",
    "                node_data_python_list.append(current_node.data)\n",
    "                node_pointers_next_python_list.append(current_node.pointer_to_next_node)\n",
    "                node_pointers_prev_python_list.append(current_node.pointer_to_previous_node)\n",
    "                nodes_python_list.append(current_node)\n",
    "            \n",
    "        return node_data_python_list , node_pointers_next_python_list , node_pointers_prev_python_list , nodes_python_list\n"
   ]
  },
  {
   "cell_type": "markdown",
   "id": "dd32994d-a831-4e06-babf-d05aa6df2ca4",
   "metadata": {},
   "source": [
    "## Big O Complexity of Operations in Doubly Linked List\n",
    "\n",
    "Below is the time complexity analysis for each implemented operation in the doubly linked list, considering the worst-case scenarios:\n",
    "\n",
    "### Insertions:\n",
    "1. **Insert at the beginning**: \n",
    "   - **Time Complexity**: **O(1)** \n",
    "   - Reason: Direct access to the head allows constant time insertion.\n",
    "\n",
    "2. **Insert at the end**: \n",
    "   - **Time Complexity**: **O(1)** \n",
    "   - Reason: Direct access to the tail allows constant time insertion.\n",
    "\n",
    "3. **Insert before/after a target node**:\n",
    "   - **Time Complexity**: **O(n)** \n",
    "   - Reason: Requires traversing the list to find the target node in the worst case.\n",
    "\n",
    "### Deletions:\n",
    "4. **Delete the first node**:\n",
    "   - **Time Complexity**: **O(1)** \n",
    "   - Reason: Direct access to the head allows constant time deletion.\n",
    "\n",
    "5. **Delete the last node**:\n",
    "   - **Time Complexity**: **O(1)** \n",
    "   - Reason: Direct access to the tail allows constant time deletion.\n",
    "   - **Note**: using the bidirectional process in this Doubly LinkedLists reduces the time complexity to O(1), compared to the previous singly/circular linked list implementation where the absence of a node pointing to the previous node resulted in a time complexity of O(n).\n",
    "\n",
    "6. **Delete a node with specific data**:\n",
    "   - **Time Complexity**: **O(n)** \n",
    "   - Reason: Requires traversing the list to find the target node in the worst case.\n",
    "\n",
    "### Editing:\n",
    "7. **Edit a node's data**:\n",
    "   - **Time Complexity**: **O(n)** \n",
    "   - Reason: Requires traversing the list to find the node containing the target data in the worst case.\n",
    "\n",
    "### Swapping:\n",
    "8. **Swap two nodes**:\n",
    "   - **Time Complexity**: **O(n)** \n",
    "   - Reason: Requires traversing the list to locate both nodes in the worst case.\n",
    "\n",
    "### Searching:\n",
    "9. **Find a node by data**:\n",
    "   - **Time Complexity**: **O(n)** \n",
    "   - Reason: Requires traversing the list to find the node containing the target data in the worst case.\n",
    "\n",
    "### Shifting (Applicable in Circular Mode):\n",
    "10. **Shift right**:\n",
    "    - **Time Complexity**: **O(1)** \n",
    "    - Reason: Direct manipulation of head and tail pointers.\n",
    "\n",
    "11. **Shift left**:\n",
    "    - **Time Complexity**: **O(1)** \n",
    "    - Reason: Direct manipulation of head and tail pointers.\n",
    "\n",
    "### Utility:\n",
    "12. **Convert to Python list**:\n",
    "    - **Time Complexity**: **O(n)** \n",
    "    - Reason: Requires traversal of the entire list to create the Python lists.\n",
    "\n",
    "13. **Get list size**:\n",
    "    - **Time Complexity**: **O(1)** \n",
    "    - Reason: The size is stored as an attribute and is accessed directly.\n",
    "\n",
    "### Summary:\n",
    "| Operation                     | Time Complexity |\n",
    "|-------------------------------|-----------------|\n",
    "| Insert at the beginning       | O(1)           |\n",
    "| Insert at the end             | O(1)           |\n",
    "| Insert before/after a target  | O(n)           |\n",
    "| Delete the first node         | O(1)           |\n",
    "| Delete the last node          | O(1)           |\n",
    "| Delete a node with specific data | O(n)        |\n",
    "| Edit a node's data            | O(n)           |\n",
    "| Swap two nodes                | O(n)           |\n",
    "| Find a node by data           | O(n)           |\n",
    "| Shift right                   | O(1)           |\n",
    "| Shift left                    | O(1)           |\n",
    "| Convert to Python list        | O(n)           |\n",
    "| Get list size                 | O(1)           |\n"
   ]
  },
  {
   "cell_type": "markdown",
   "id": "597603d9-fb92-469e-b52e-76b28ace5027",
   "metadata": {},
   "source": [
    "## Testing"
   ]
  },
  {
   "cell_type": "markdown",
   "id": "7417cb8f-a92b-4179-ba8d-354ed1035fcb",
   "metadata": {},
   "source": [
    "### Test the constructor"
   ]
  },
  {
   "cell_type": "markdown",
   "id": "818c631f-f23e-4e8e-840c-a7641e1e3935",
   "metadata": {},
   "source": [
    "##### For Non-Circular DoublyLinkedList"
   ]
  },
  {
   "cell_type": "code",
   "execution_count": 14,
   "id": "a4d73239-f9ed-4e61-81e8-77cceaec5803",
   "metadata": {},
   "outputs": [
    {
     "name": "stdout",
     "output_type": "stream",
     "text": [
      "The Nodes Data: [100]\n",
      "The Nodes: [<__main__.Node object at 0x00000206D9BE1F10>]\n",
      "The Nodes are pointing next to these Nodes respectivly: [None]\n",
      "The Nodes are pointing prev to these Nodes respectivly: [None]\n",
      "The length of this Doublylinkedlist is 1\n"
     ]
    }
   ],
   "source": [
    "my_Doublylinkedlist = DoublyLinkedList(100 , False)\n",
    "\n",
    "print(f\"The Nodes Data: {my_Doublylinkedlist.to_python_list()[0]}\")\n",
    "print(f\"The Nodes: {my_Doublylinkedlist.to_python_list()[3]}\")\n",
    "print(f\"The Nodes are pointing next to these Nodes respectivly: {my_Doublylinkedlist.to_python_list()[1]}\")\n",
    "print(f\"The Nodes are pointing prev to these Nodes respectivly: {my_Doublylinkedlist.to_python_list()[2]}\")\n",
    "\n",
    "print(f\"The length of this Doublylinkedlist is {len(my_Doublylinkedlist)}\")"
   ]
  },
  {
   "cell_type": "markdown",
   "id": "f15d10ee-94bf-4b8a-a519-344f6f2985f4",
   "metadata": {},
   "source": [
    "##### For Circular DoublyLinkedList"
   ]
  },
  {
   "cell_type": "code",
   "execution_count": 25,
   "id": "07419dbd-6a16-4a1c-a44d-c69077a5a4d9",
   "metadata": {},
   "outputs": [
    {
     "name": "stdout",
     "output_type": "stream",
     "text": [
      "The Nodes Data: [100]\n",
      "The Nodes: [<__main__.Node object at 0x00000206DA106160>]\n",
      "The Nodes are pointing next to these Nodes respectivly: [<__main__.Node object at 0x00000206DA106160>]\n",
      "The Nodes are pointing prev to these Nodes respectivly: [<__main__.Node object at 0x00000206DA106160>]\n",
      "The length of this Doublylinkedlist is 1\n"
     ]
    }
   ],
   "source": [
    "my_CircularDoublylinkedlist = DoublyLinkedList(100 , True)\n",
    "\n",
    "print(f\"The Nodes Data: {my_CircularDoublylinkedlist.to_python_list()[0]}\")\n",
    "print(f\"The Nodes: {my_CircularDoublylinkedlist.to_python_list()[3]}\")\n",
    "print(f\"The Nodes are pointing next to these Nodes respectivly: {my_CircularDoublylinkedlist.to_python_list()[1]}\")\n",
    "print(f\"The Nodes are pointing prev to these Nodes respectivly: {my_CircularDoublylinkedlist.to_python_list()[2]}\")\n",
    "\n",
    "print(f\"The length of this Doublylinkedlist is {len(my_CircularDoublylinkedlist)}\")\n"
   ]
  },
  {
   "cell_type": "markdown",
   "id": "037850ef-fb6f-4cec-a31c-753d3d964530",
   "metadata": {},
   "source": [
    "### Test the Insertion Methods:"
   ]
  },
  {
   "cell_type": "markdown",
   "id": "3a6f75cc-80a9-4d18-bf6e-abf6d0d4611b",
   "metadata": {},
   "source": [
    "#### Test  the Insertion from the beginning:"
   ]
  },
  {
   "cell_type": "markdown",
   "id": "25734ba3-0942-4177-8f11-51f79881a5fc",
   "metadata": {},
   "source": [
    "##### For a Non-Circular DoublyLinkedList "
   ]
  },
  {
   "cell_type": "code",
   "execution_count": 202,
   "id": "5a19cfc8-fa64-4d6a-961e-4682095476bd",
   "metadata": {},
   "outputs": [
    {
     "name": "stdout",
     "output_type": "stream",
     "text": [
      "The Nodes Data: [100]\n",
      "The Nodes: [<__main__.Node object at 0x000001D88C7AF070>]\n",
      "The Nodes are pointing next to these Nodes respectivly: [None]\n",
      "The Nodes are pointing prev to these Nodes respectivly: [None]\n",
      "The head is the node with data: 100\n",
      "The tail is the node with data: 100\n",
      "AFTER INSERTION The Nodes Data: [50, 100]\n",
      "AFTER INSERTION The Nodes: [<__main__.Node object at 0x000001D88C7F5640>, <__main__.Node object at 0x000001D88C7AF070>]\n",
      "AFTER INSERTION The Nodes are pointing next to these Nodes respectivly: [<__main__.Node object at 0x000001D88C7AF070>, None]\n",
      "AFTER INSERTION The Nodes are pointing prev to these Nodes respectivly: [None, <__main__.Node object at 0x000001D88C7F5640>]\n",
      "AFTER INSERTION The head is the node with data: 50\n",
      "AFTER INSERTION The tail is the node with data: 100\n",
      "The length of this Doublylinkedlist AFTER the insertion  is 2\n"
     ]
    }
   ],
   "source": [
    "my_Doublylinkedlist = DoublyLinkedList(100 , False)\n",
    "\n",
    "print(f\"The Nodes Data: {my_Doublylinkedlist.to_python_list()[0]}\")\n",
    "print(f\"The Nodes: {my_Doublylinkedlist.to_python_list()[3]}\")\n",
    "print(f\"The Nodes are pointing next to these Nodes respectivly: {my_Doublylinkedlist.to_python_list()[1]}\")\n",
    "print(f\"The Nodes are pointing prev to these Nodes respectivly: {my_Doublylinkedlist.to_python_list()[2]}\")\n",
    "print(f\"The head is the node with data: {my_Doublylinkedlist.head.data}\")\n",
    "print(f\"The tail is the node with data: {my_Doublylinkedlist.tail.data}\")\n",
    "\n",
    "my_Doublylinkedlist.insert_at_beginning(50)\n",
    "\n",
    "print(f\"AFTER INSERTION The Nodes Data: {my_Doublylinkedlist.to_python_list()[0]}\")\n",
    "print(f\"AFTER INSERTION The Nodes: {my_Doublylinkedlist.to_python_list()[3]}\")\n",
    "print(f\"AFTER INSERTION The Nodes are pointing next to these Nodes respectivly: {my_Doublylinkedlist.to_python_list()[1]}\")\n",
    "print(f\"AFTER INSERTION The Nodes are pointing prev to these Nodes respectivly: {my_Doublylinkedlist.to_python_list()[2]}\")\n",
    "print(f\"AFTER INSERTION The head is the node with data: {my_Doublylinkedlist.head.data}\")\n",
    "print(f\"AFTER INSERTION The tail is the node with data: {my_Doublylinkedlist.tail.data}\")\n",
    "\n",
    "print(f\"The length of this Doublylinkedlist AFTER the insertion  is {len(my_Doublylinkedlist)}\")"
   ]
  },
  {
   "cell_type": "markdown",
   "id": "70004df4-b532-4e66-950d-7cffaa17a95d",
   "metadata": {},
   "source": [
    "##### For a Circular DoublyLinkedList "
   ]
  },
  {
   "cell_type": "code",
   "execution_count": 21,
   "id": "5053d1aa-7bd9-45e9-bdc9-11a4fb2e4bca",
   "metadata": {},
   "outputs": [
    {
     "name": "stdout",
     "output_type": "stream",
     "text": [
      "The Nodes Data: [100]\n",
      "AFTER INSERTION The Nodes Data: [50, 100]\n",
      "The length of this Doublylinkedlist AFTER the insertion  is 2\n"
     ]
    }
   ],
   "source": [
    "my_CircularDoublylinkedlist = DoublyLinkedList(100 , True)\n",
    "# my_CircularDoublylinkedlist.insert_at_beginning(600)\n",
    "# my_CircularDoublylinkedlist.insert_at_beginning(1000)\n",
    "\n",
    "print(f\"The Nodes Data: {my_CircularDoublylinkedlist.to_python_list()[0]}\")\n",
    "# print(f\"The Nodes: {my_CircularDoublylinkedlist.to_python_list()[3]}\")\n",
    "# print(f\"The Nodes are pointing next to these Nodes respectivly: {my_CircularDoublylinkedlist.to_python_list()[1]}\")\n",
    "# print(f\"The Nodes are pointing prev to these Nodes respectivly: {my_CircularDoublylinkedlist.to_python_list()[2]}\")\n",
    "# print(f\"The head is the node with data: {my_CircularDoublylinkedlist.head.data}\")\n",
    "# print(f\"The tail is the node with data: {my_CircularDoublylinkedlist.tail.data}\")\n",
    "# print(f\"The head is the node with adress: {my_CircularDoublylinkedlist.head}\")\n",
    "# print(f\"The tail is the node with adress: {my_CircularDoublylinkedlist.tail}\")\n",
    "# print(f\"The tail is pointing to this node that must be the same as the head: {my_CircularDoublylinkedlist.tail.pointer_to_next_node}\")\n",
    "\n",
    "my_CircularDoublylinkedlist.insert_at_beginning(50)\n",
    "\n",
    "print(f\"AFTER INSERTION The Nodes Data: {my_CircularDoublylinkedlist.to_python_list()[0]}\")\n",
    "# print(f\"AFTER INSERTION The Nodes: {my_CircularDoublylinkedlist.to_python_list()[3]}\")\n",
    "# print(f\"AFTER INSERTION The Nodes are pointing next to these Nodes respectivly: {my_CircularDoublylinkedlist.to_python_list()[1]}\")\n",
    "# print(f\"AFTER INSERTION The Nodes are pointing prev to these Nodes respectivly: {my_CircularDoublylinkedlist.to_python_list()[2]}\")\n",
    "# print(f\"AFTER INSERTION The head is the node with data: {my_CircularDoublylinkedlist.head.data}\")\n",
    "# print(f\"AFTER INSERTION The tail is the node with data: {my_CircularDoublylinkedlist.tail.data}\")\n",
    "\n",
    "print(f\"The length of this Doublylinkedlist AFTER the insertion  is {len(my_CircularDoublylinkedlist)}\")"
   ]
  },
  {
   "cell_type": "markdown",
   "id": "734f222b-fb3e-44fb-acb7-aa6cf4fc8cb4",
   "metadata": {},
   "source": [
    "#### Test  the Insertion from the end:"
   ]
  },
  {
   "cell_type": "markdown",
   "id": "c599df43-0a63-47ee-b673-7adef2f7f459",
   "metadata": {},
   "source": [
    "##### For Non-Circular DoublyLinkedList "
   ]
  },
  {
   "cell_type": "code",
   "execution_count": 31,
   "id": "a722d0db-b3bb-4e47-acf6-607aa52cd038",
   "metadata": {},
   "outputs": [
    {
     "name": "stdout",
     "output_type": "stream",
     "text": [
      "The Nodes Data: [25, 50, 100]\n",
      "AFTER INSERTION The Nodes Data: [25, 50, 100, 150]\n",
      "4\n"
     ]
    }
   ],
   "source": [
    "my_Doublylinkedlist = DoublyLinkedList(100 , False)\n",
    "my_Doublylinkedlist.insert_at_beginning(50)\n",
    "my_Doublylinkedlist.insert_at_beginning(25)\n",
    "\n",
    "print(f\"The Nodes Data: {my_Doublylinkedlist.to_python_list()[0]}\")\n",
    "my_Doublylinkedlist.insert_at_end(150)\n",
    "print(f\"AFTER INSERTION The Nodes Data: {my_Doublylinkedlist.to_python_list()[0]}\")\n",
    "\n",
    "print(len(my_Doublylinkedlist))"
   ]
  },
  {
   "cell_type": "markdown",
   "id": "f0be8683-442e-46b7-aae4-47cbb1223261",
   "metadata": {},
   "source": [
    "##### For a Circular DoublyLinkedList "
   ]
  },
  {
   "cell_type": "code",
   "execution_count": 40,
   "id": "52f546b7-1439-44a3-ac99-980656d60e9b",
   "metadata": {},
   "outputs": [
    {
     "name": "stdout",
     "output_type": "stream",
     "text": [
      "The Nodes Data: [25, 50, 100]\n",
      "AFTER INSERTION The Nodes Data: [25, 50, 100, 150]\n",
      "4\n"
     ]
    }
   ],
   "source": [
    "my_CircularDoublylinkedlist = DoublyLinkedList(100 , True)\n",
    "my_CircularDoublylinkedlist.insert_at_beginning(50)\n",
    "my_CircularDoublylinkedlist.insert_at_beginning(25)\n",
    "\n",
    "print(f\"The Nodes Data: {my_CircularDoublylinkedlist.to_python_list()[0]}\")\n",
    "# print(f\"The head is the node with data: {my_CircularDoublylinkedlist.head.data}\")\n",
    "# print(f\"The tail is the node with data: {my_CircularDoublylinkedlist.tail.data}\")\n",
    "# print(f\"The head is the node with adress: {my_CircularDoublylinkedlist.head}\")\n",
    "# print(f\"The tail is the node with adress: {my_CircularDoublylinkedlist.tail}\")\n",
    "# print(f\"The tail is pointing to this node that must be the same as the head: {my_CircularDoublylinkedlist.tail.pointer_to_next_node}\")\n",
    "\n",
    "my_CircularDoublylinkedlist.insert_at_end(150)\n",
    "\n",
    "print(f\"AFTER INSERTION The Nodes Data: {my_CircularDoublylinkedlist.to_python_list()[0]}\")\n",
    "# print(f\"The head is the node with data: {my_CircularDoublylinkedlist.head.data}\")\n",
    "# print(f\"The tail is the node with data: {my_CircularDoublylinkedlist.tail.data}\")\n",
    "# print(f\"The head is the node with adress: {my_CircularDoublylinkedlist.head}\")\n",
    "# print(f\"The tail is the node with adress: {my_CircularDoublylinkedlist.tail}\")\n",
    "# print(f\"The tail is pointing to this node that must be the same as the head: {my_CircularDoublylinkedlist.tail.pointer_to_next_node}\")\n",
    "\n",
    "print(len(my_CircularDoublylinkedlist))"
   ]
  },
  {
   "cell_type": "markdown",
   "id": "ecb43b6d-d15a-45f0-8386-3b6587204db1",
   "metadata": {},
   "source": [
    "#### Test  the Insertion Before/After a Target Node containing target_data:"
   ]
  },
  {
   "cell_type": "markdown",
   "id": "814a8486-58f3-4d76-8c69-2d021c900cdb",
   "metadata": {},
   "source": [
    "##### For Non-Circular DoublyLinkedList "
   ]
  },
  {
   "cell_type": "code",
   "execution_count": 214,
   "id": "c24e91d1-a5c3-4a61-ad2a-b37ba26c2b2a",
   "metadata": {},
   "outputs": [
    {
     "name": "stdout",
     "output_type": "stream",
     "text": [
      "The Nodes Data: [50, 100, 150, 300]\n",
      "The Nodes Data: [50, 200, 100, 150, 300]\n"
     ]
    }
   ],
   "source": [
    "my_Doublylinkedlist = DoublyLinkedList(100 , False)\n",
    "my_Doublylinkedlist.insert_at_beginning(50)\n",
    "my_Doublylinkedlist.insert_at_end(150)\n",
    "my_Doublylinkedlist.insert_at_end(300)\n",
    "\n",
    "# start_node = my_Doublylinkedlist.head.pointer_to_next_node.pointer_to_next_node\n",
    "# start_node = my_Doublylinkedlist.tail.pointer_to_previous_node\n",
    "start_node = my_Doublylinkedlist.head\n",
    "# print(my_Doublylinkedlist.head)\n",
    "# print(my_Doublylinkedlist.tail)\n",
    "\n",
    "print(f\"The Nodes Data: {my_Doublylinkedlist.to_python_list()[0]}\")\n",
    "\n",
    "my_Doublylinkedlist.insert_data(200 , 100 , direction = \"forward\", position=\"before\" , start_node=start_node)\n",
    "# my_Doublylinkedlist.insert_data(200 , 100 , direction = \"backward\", position=\"before\" , start_node = start_node)\n",
    "# my_Doublylinkedlist.insert_data(200 , 100 , direction = \"forward\" , position=\"after\" , start_node = start_node)\n",
    "# my_Doublylinkedlist.insert_data(200 , 100 , direction = \"backward\" , position=\"after\" , start_node = start_node)\n",
    "\n",
    "print(f\"The Nodes Data: {my_Doublylinkedlist.to_python_list()[0]}\")\n",
    "\n",
    "# print(my_Doublylinkedlist.head)\n",
    "# print(my_Doublylinkedlist.tail)\n"
   ]
  },
  {
   "cell_type": "markdown",
   "id": "0449bd3a-cb4a-4900-8440-04fecc88d9db",
   "metadata": {},
   "source": [
    "##### For Circular DoublyLinkedList "
   ]
  },
  {
   "cell_type": "code",
   "execution_count": 215,
   "id": "2f0a22a0-0309-4efb-ba23-8450266399bf",
   "metadata": {},
   "outputs": [
    {
     "name": "stdout",
     "output_type": "stream",
     "text": [
      "The Nodes Data: [50, 100, 150, 300]\n",
      "The Nodes Data: [50, 100, 200, 150, 300]\n"
     ]
    }
   ],
   "source": [
    "my_Doublylinkedlist = DoublyLinkedList(100 , True)\n",
    "my_Doublylinkedlist.insert_at_beginning(50)\n",
    "my_Doublylinkedlist.insert_at_end(150)\n",
    "my_Doublylinkedlist.insert_at_end(300)\n",
    "\n",
    "start_node = my_Doublylinkedlist.head\n",
    "# start_node = my_Doublylinkedlist.head.pointer_to_next_node.pointer_to_next_node\n",
    "# start_node = my_Doublylinkedlist.tail.pointer_to_previous_node.pointer_to_previous_node\n",
    "# start_node = my_Doublylinkedlist.tail\n",
    "\n",
    "# print(my_Doublylinkedlist.head)\n",
    "# print(my_Doublylinkedlist.tail)\n",
    "\n",
    "print(f\"The Nodes Data: {my_Doublylinkedlist.to_python_list()[0]}\")\n",
    "\n",
    "my_Doublylinkedlist.insert_data(200 , 150 , direction = \"forward\" , position=\"before\" , start_node = start_node)\n",
    "# my_Doublylinkedlist.insert_data(200 , 150 , direction = \"backward\", position=\"before\" , start_node = start_node)\n",
    "# my_Doublylinkedlist.insert_data(200 , 50 , direction = \"forward\" , position=\"after\" , start_node = start_node)\n",
    "# my_Doublylinkedlist.insert_data(200 , 300 , direction = \"backward\" , position=\"after\" , start_node = start_node)\n",
    "\n",
    "print(f\"The Nodes Data: {my_Doublylinkedlist.to_python_list()[0]}\")\n",
    "\n",
    "# print(my_Doublylinkedlist.head)\n",
    "# print(my_Doublylinkedlist.tail)"
   ]
  },
  {
   "cell_type": "markdown",
   "id": "fc1e17f8-d3d7-4a6c-b1c4-9661f09351fc",
   "metadata": {},
   "source": [
    "### Test Deletion ops"
   ]
  },
  {
   "cell_type": "markdown",
   "id": "88c8b8da-db79-43a4-8f7c-e8d3c372fc37",
   "metadata": {},
   "source": [
    "#### Test  the Deletion  of  the first Node:"
   ]
  },
  {
   "cell_type": "markdown",
   "id": "6a48bb1a-77de-49ed-8bc6-237d68f3d978",
   "metadata": {},
   "source": [
    "##### For Non-Circular DoublyLinkedList "
   ]
  },
  {
   "cell_type": "code",
   "execution_count": 57,
   "id": "7e20cc07-ac22-4cf4-bbd9-208c75f25107",
   "metadata": {},
   "outputs": [
    {
     "data": {
      "text/plain": [
       "3"
      ]
     },
     "execution_count": 57,
     "metadata": {},
     "output_type": "execute_result"
    }
   ],
   "source": [
    "my_Doublylinkedlist = DoublyLinkedList(None , False)\n",
    "my_Doublylinkedlist.insert_at_beginning(50)\n",
    "my_Doublylinkedlist.insert_at_end(150)\n",
    "my_Doublylinkedlist.insert_at_end(300)\n",
    "my_Doublylinkedlist.delete_last_node()\n",
    "my_Doublylinkedlist.insert_at_end(400)\n",
    "\n",
    "len(my_Doublylinkedlist)"
   ]
  },
  {
   "cell_type": "code",
   "execution_count": 58,
   "id": "5ae2d683-242a-4675-92a1-da44ba35e1f2",
   "metadata": {},
   "outputs": [
    {
     "name": "stdout",
     "output_type": "stream",
     "text": [
      "The Nodes Data: [50, 100, 150, 300]\n",
      "The Nodes Data: [100, 150, 300]\n"
     ]
    }
   ],
   "source": [
    "my_Doublylinkedlist = DoublyLinkedList(100 , False)\n",
    "my_Doublylinkedlist.insert_at_beginning(50)\n",
    "my_Doublylinkedlist.insert_at_end(150)\n",
    "my_Doublylinkedlist.insert_at_end(300)\n",
    "\n",
    "# print(my_Doublylinkedlist.head)\n",
    "# print(my_Doublylinkedlist.tail)\n",
    "\n",
    "print(f\"The Nodes Data: {my_Doublylinkedlist.to_python_list()[0]}\")\n",
    "my_Doublylinkedlist.delete_first_node()\n",
    "print(f\"The Nodes Data: {my_Doublylinkedlist.to_python_list()[0]}\")\n",
    "\n",
    "# print(my_Doublylinkedlist.head)\n",
    "# print(my_Doublylinkedlist.tail)"
   ]
  },
  {
   "cell_type": "markdown",
   "id": "8bec5ead-5e0f-4c58-a480-7361f8c072a2",
   "metadata": {},
   "source": [
    "##### For Circular DoublyLinkedList "
   ]
  },
  {
   "cell_type": "code",
   "execution_count": 60,
   "id": "cc542f20-ad8a-4485-a73f-f7b2cf31fa0a",
   "metadata": {},
   "outputs": [
    {
     "name": "stdout",
     "output_type": "stream",
     "text": [
      "The Nodes Data: [50, 100, 150, 300]\n",
      "The Nodes Data: [100, 150, 300]\n"
     ]
    }
   ],
   "source": [
    "my_Doublylinkedlist = DoublyLinkedList(100 , True)\n",
    "my_Doublylinkedlist.insert_at_beginning(50)\n",
    "my_Doublylinkedlist.insert_at_end(150)\n",
    "my_Doublylinkedlist.insert_at_end(300)\n",
    "\n",
    "# print(my_Doublylinkedlist.head)\n",
    "# print(my_Doublylinkedlist.tail)\n",
    "\n",
    "print(f\"The Nodes Data: {my_Doublylinkedlist.to_python_list()[0]}\")\n",
    "my_Doublylinkedlist.delete_first_node()\n",
    "print(f\"The Nodes Data: {my_Doublylinkedlist.to_python_list()[0]}\")\n",
    "\n",
    "# print(my_Doublylinkedlist.head)\n",
    "# print(my_Doublylinkedlist.tail)"
   ]
  },
  {
   "cell_type": "code",
   "execution_count": 61,
   "id": "ddfd8fb8-b4fd-4bfb-b318-b10a6d0d25bc",
   "metadata": {},
   "outputs": [
    {
     "name": "stdout",
     "output_type": "stream",
     "text": [
      "The Nodes Data: [150, 300]\n"
     ]
    }
   ],
   "source": [
    "my_Doublylinkedlist.delete_first_node()\n",
    "print(f\"The Nodes Data: {my_Doublylinkedlist.to_python_list()[0]}\")"
   ]
  },
  {
   "cell_type": "markdown",
   "id": "81ac4037-9b9a-491c-b7f7-7fda6e73b7ea",
   "metadata": {},
   "source": [
    "#### Test  the Deletion  of  the Last Node:"
   ]
  },
  {
   "cell_type": "markdown",
   "id": "1fb8b09e-0607-41e8-bea7-61c7285b83fc",
   "metadata": {},
   "source": [
    "##### For Non-Circular DoublyLinkedList "
   ]
  },
  {
   "cell_type": "code",
   "execution_count": 63,
   "id": "0e42e62b-f957-4d3f-adc2-5b7bab053f4b",
   "metadata": {},
   "outputs": [
    {
     "name": "stdout",
     "output_type": "stream",
     "text": [
      "The Nodes Data: [50, 150, 300]\n",
      "The Nodes Data: [50, 150]\n"
     ]
    }
   ],
   "source": [
    "my_Doublylinkedlist = DoublyLinkedList(None , False)\n",
    "my_Doublylinkedlist.insert_at_beginning(50)\n",
    "my_Doublylinkedlist.insert_at_end(150)\n",
    "my_Doublylinkedlist.insert_at_end(300)\n",
    "\n",
    "print(f\"The Nodes Data: {my_Doublylinkedlist.to_python_list()[0]}\")\n",
    "my_Doublylinkedlist.delete_last_node()\n",
    "print(f\"The Nodes Data: {my_Doublylinkedlist.to_python_list()[0]}\")"
   ]
  },
  {
   "cell_type": "markdown",
   "id": "74e2c79b-e2f2-4f0e-b0c4-21c3ac54b138",
   "metadata": {},
   "source": [
    "##### For Circular DoublyLinkedList "
   ]
  },
  {
   "cell_type": "code",
   "execution_count": 64,
   "id": "82acce45-29d1-43ad-bbf2-2c58de2e744b",
   "metadata": {},
   "outputs": [
    {
     "name": "stdout",
     "output_type": "stream",
     "text": [
      "The Nodes Data: [50, 100, 150, 300]\n",
      "The Nodes Data: [50, 100, 150]\n"
     ]
    }
   ],
   "source": [
    "my_Doublylinkedlist = DoublyLinkedList(100 , True)\n",
    "my_Doublylinkedlist.insert_at_beginning(50)\n",
    "my_Doublylinkedlist.insert_at_end(150)\n",
    "my_Doublylinkedlist.insert_at_end(300)\n",
    "\n",
    "print(f\"The Nodes Data: {my_Doublylinkedlist.to_python_list()[0]}\")\n",
    "my_Doublylinkedlist.delete_last_node()\n",
    "print(f\"The Nodes Data: {my_Doublylinkedlist.to_python_list()[0]}\")"
   ]
  },
  {
   "cell_type": "markdown",
   "id": "38fbc175-a277-4750-b129-16a87b9e5059",
   "metadata": {},
   "source": [
    "#### Test  the Deletion  of  a target node:"
   ]
  },
  {
   "cell_type": "markdown",
   "id": "d3925332-fb22-436c-b652-8647ff0ead7e",
   "metadata": {},
   "source": [
    "##### For Non-Circular DoublyLinkedList "
   ]
  },
  {
   "cell_type": "code",
   "execution_count": 67,
   "id": "9778836b-8edc-4acd-a249-dfc3d5f6f9e5",
   "metadata": {},
   "outputs": [
    {
     "data": {
      "text/plain": [
       "2"
      ]
     },
     "execution_count": 67,
     "metadata": {},
     "output_type": "execute_result"
    }
   ],
   "source": [
    "my_Doublylinkedlist = DoublyLinkedList(None , False)\n",
    "my_Doublylinkedlist.insert_at_beginning(50)\n",
    "my_Doublylinkedlist.insert_at_end(150)\n",
    "my_Doublylinkedlist.insert_at_end(300)\n",
    "my_Doublylinkedlist.delete_target_data(150)\n",
    "my_Doublylinkedlist.delete_target_data(50)\n",
    "my_Doublylinkedlist.insert_data(100 , 300 , direction = \"forward\", position=\"before\" , start_node=my_Doublylinkedlist.head)\n",
    "\n",
    "len(my_Doublylinkedlist)"
   ]
  },
  {
   "cell_type": "code",
   "execution_count": 223,
   "id": "901ca390-4bad-4ebb-8d0e-2846e478a7eb",
   "metadata": {},
   "outputs": [
    {
     "name": "stdout",
     "output_type": "stream",
     "text": [
      "The Nodes Data: [50, 100, 150, 300]\n",
      "The Nodes Data: [50, 100, 300]\n"
     ]
    }
   ],
   "source": [
    "my_Doublylinkedlist = DoublyLinkedList(100 , False)\n",
    "my_Doublylinkedlist.insert_at_beginning(50)\n",
    "my_Doublylinkedlist.insert_at_end(150)\n",
    "my_Doublylinkedlist.insert_at_end(300)\n",
    "\n",
    "# start_node =  my_Doublylinkedlist.head\n",
    "start_node = my_Doublylinkedlist.head.pointer_to_next_node.pointer_to_next_node\n",
    "# start_node = my_Doublylinkedlist.tail.pointer_to_previous_node.pointer_to_previous_node\n",
    "# start_node = my_Doublylinkedlist.tail\n",
    "\n",
    "print(f\"The Nodes Data: {my_Doublylinkedlist.to_python_list()[0]}\")\n",
    "my_Doublylinkedlist.delete_target_data(150 , direction = \"forward\" , start_node = start_node)\n",
    "# my_Doublylinkedlist.delete_target_data(150 , direction = \"backward\" , start_node = start_node)\n",
    "\n",
    "print(f\"The Nodes Data: {my_Doublylinkedlist.to_python_list()[0]}\")"
   ]
  },
  {
   "cell_type": "markdown",
   "id": "dac9f77f-4fe3-45fc-989e-c7d92295d71c",
   "metadata": {},
   "source": [
    "##### For Circular DoublyLinkedList "
   ]
  },
  {
   "cell_type": "code",
   "execution_count": 222,
   "id": "1c730438-f582-4148-952d-390dc6600de0",
   "metadata": {},
   "outputs": [
    {
     "name": "stdout",
     "output_type": "stream",
     "text": [
      "The Nodes Data: [50, 100, 150, 300]\n",
      "The Nodes Data: [100, 150, 300]\n"
     ]
    }
   ],
   "source": [
    "my_Doublylinkedlist = DoublyLinkedList(100 , True)\n",
    "my_Doublylinkedlist.insert_at_beginning(50)\n",
    "my_Doublylinkedlist.insert_at_end(150)\n",
    "my_Doublylinkedlist.insert_at_end(300)\n",
    "\n",
    "# start_node =  my_Doublylinkedlist.head\n",
    "# start_node = my_Doublylinkedlist.head.pointer_to_next_node.pointer_to_next_node\n",
    "start_node = my_Doublylinkedlist.tail.pointer_to_previous_node.pointer_to_previous_node\n",
    "# start_node = my_Doublylinkedlist.tail\n",
    "\n",
    "print(f\"The Nodes Data: {my_Doublylinkedlist.to_python_list()[0]}\")\n",
    "my_Doublylinkedlist.delete_target_data(50 , direction = \"forward\" , start_node = start_node)\n",
    "# my_Doublylinkedlist.delete_target_data(150 , direction = \"backward\" , start_node = start_node)\n",
    "\n",
    "print(f\"The Nodes Data: {my_Doublylinkedlist.to_python_list()[0]}\")"
   ]
  },
  {
   "cell_type": "markdown",
   "id": "8526d84b-0414-4da2-8579-6d1bdd0c790b",
   "metadata": {},
   "source": [
    "### Test Get Node:"
   ]
  },
  {
   "cell_type": "code",
   "execution_count": 226,
   "id": "62eb7354-f471-49d9-a66a-2fc4a00eb89b",
   "metadata": {},
   "outputs": [
    {
     "name": "stdout",
     "output_type": "stream",
     "text": [
      "The Nodes Data: [50, 100, 150, 300, 400]\n",
      "150\n"
     ]
    }
   ],
   "source": [
    "my_Doublylinkedlist = DoublyLinkedList(100 , False)\n",
    "my_Doublylinkedlist.insert_at_beginning(50)\n",
    "my_Doublylinkedlist.insert_at_end(150)\n",
    "my_Doublylinkedlist.insert_at_end(300)\n",
    "my_Doublylinkedlist.insert_at_end(400)\n",
    "\n",
    "\n",
    "print(f\"The Nodes Data: {my_Doublylinkedlist.to_python_list()[0]}\")\n",
    "target_node = my_Doublylinkedlist.get_node_by_target_data(150 , direction = \"backward\" , start_node = None)\n",
    "\n",
    "if target_node:\n",
    "    print(target_node.data)"
   ]
  },
  {
   "cell_type": "markdown",
   "id": "4eab6ebf-62f6-4146-a262-5485eccaa300",
   "metadata": {},
   "source": [
    "### Test Swapping Nodes:"
   ]
  },
  {
   "cell_type": "code",
   "execution_count": 15,
   "id": "ddfd032a-7ee1-45e2-96fe-cfd469a0a541",
   "metadata": {},
   "outputs": [
    {
     "name": "stdout",
     "output_type": "stream",
     "text": [
      "The Nodes Data: [50, 100, 400]\n",
      "I am about transition from None to starting node: 50\n",
      "The Nodes Data: [100, 50, 400]\n"
     ]
    }
   ],
   "source": [
    "my_Doublylinkedlist = DoublyLinkedList(None , False)\n",
    "my_Doublylinkedlist.insert_at_beginning(50)\n",
    "# my_Doublylinkedlist.insert_at_end(50)\n",
    "my_Doublylinkedlist.insert_at_end(100)\n",
    "my_Doublylinkedlist.insert_at_end(400)\n",
    "\n",
    "print(f\"The Nodes Data: {my_Doublylinkedlist.to_python_list()[0]}\")\n",
    "my_Doublylinkedlist.swapping_nodes(100 , 50 , \"backward\" , start_node = None)\n",
    "print(f\"The Nodes Data: {my_Doublylinkedlist.to_python_list()[0]}\")"
   ]
  },
  {
   "cell_type": "code",
   "execution_count": null,
   "id": "093e64b2-c170-430f-877b-116fc0ce54da",
   "metadata": {},
   "outputs": [],
   "source": []
  }
 ],
 "metadata": {
  "kernelspec": {
   "display_name": "Python 3 (ipykernel)",
   "language": "python",
   "name": "python3"
  },
  "language_info": {
   "codemirror_mode": {
    "name": "ipython",
    "version": 3
   },
   "file_extension": ".py",
   "mimetype": "text/x-python",
   "name": "python",
   "nbconvert_exporter": "python",
   "pygments_lexer": "ipython3",
   "version": "3.11.7"
  }
 },
 "nbformat": 4,
 "nbformat_minor": 5
}
